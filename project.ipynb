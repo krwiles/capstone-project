{
 "cells": [
  {
   "cell_type": "markdown",
   "id": "453130ff-9419-44d5-8815-32809521da88",
   "metadata": {},
   "source": [
    "# Modeling Pit Stop Strategy in Formula 1 \n",
    "Computer Science Capstone Project <br>\n",
    "Kurtis Wiles "
   ]
  },
  {
   "cell_type": "markdown",
   "id": "697442aa-cf05-4217-9d75-0ca5a479ef11",
   "metadata": {},
   "source": [
    "## Data Pre-processing"
   ]
  },
  {
   "cell_type": "markdown",
   "id": "c62c4121-3771-4a35-b27e-8d13c1fdd2f3",
   "metadata": {},
   "source": [
    "### Initial filtering/sampling"
   ]
  },
  {
   "cell_type": "code",
   "execution_count": 48,
   "id": "fb14b4e4-68df-40b7-8540-70bdfd0414eb",
   "metadata": {},
   "outputs": [],
   "source": [
    "import numpy as np\n",
    "import pandas as pd\n",
    "import matplotlib.pyplot as plt"
   ]
  },
  {
   "cell_type": "markdown",
   "id": "d6f5af8d-1bec-46ba-a165-c23fd1fc27fb",
   "metadata": {},
   "source": [
    "We will start by loading the data and removing columns from the dataframes that will not be needed for training the neural network."
   ]
  },
  {
   "cell_type": "code",
   "execution_count": 51,
   "id": "56834d37-38db-4588-afe2-fcb9f370074c",
   "metadata": {},
   "outputs": [],
   "source": [
    "races = pd.read_csv('./data/races.csv')\n",
    "lap_times = pd.read_csv('./data/lap_times.csv')\n",
    "pit_stops = pd.read_csv('./data/pit_stops.csv')\n",
    "results = pd.read_csv('./data/results.csv')\n",
    "\n",
    "# Remove unneeded columns from races\n",
    "races = races.iloc[:, 0:6]\n",
    "races.drop(['round', 'date'], axis=1, inplace=True)\n",
    "\n",
    "# Remove unneeded columns from results\n",
    "results = results.loc[:, ['raceId', 'driverId', 'grid', 'positionOrder', 'statusId']]\n",
    "\n",
    "# Remove unneeded columns from lap_times\n",
    "lap_times.drop('time', axis=1, inplace=True)\n",
    "\n",
    "# Remove unneeded columns from pit_stops\n",
    "pit_stops.drop(['time', 'duration'], axis=1, inplace=True)"
   ]
  },
  {
   "cell_type": "markdown",
   "id": "708a30c9-db87-4bbb-9cd7-26a2ccc3f0a7",
   "metadata": {},
   "source": [
    "The data ultimately fed into the neural network will consist of lap-by-lap data from various drivers across an entire race. If there is bad data from any lap for any reason, it will invalidate the data for that driver’s entire race. This is because I don't want the network to learn from races with very unusual or unpredictable circumstances. To easily keep track of this and to easily remove an entire driver's race from the dataframe, I will maintain a separate dataframe for tracking (race, driver) pairs, which I will refer to as strategies.\n",
    "\n",
    "I will begin to construct this dataframe as well as remove rows from it that contain data I do not want to train on. Data I do not want here consists of:\n",
    "- Races pre-2014 (this will keep the data relevant to the hybrid era of Formula 1)\n",
    "- Strategies that did not complete the race (for obvious reasons)\n",
    "- Strategies that did not result in a top 10 finish (to train only on strategies from successful teams)"
   ]
  },
  {
   "cell_type": "code",
   "execution_count": 53,
   "id": "9f1b70a9-3d34-45df-81b3-851b3ee23c01",
   "metadata": {},
   "outputs": [],
   "source": [
    "# Remove races older than 2014 with Boolean indexing\n",
    "races = races[races['year'] >= 2014]\n",
    "\n",
    "# Inner join results with races to create a dataframe of strategies\n",
    "strategies = results.set_index('raceId').join(races.set_index('raceId'), rsuffix='_race', how='inner')\n",
    "\n",
    "# Keep only strategies that complete a race\n",
    "strategies = strategies[strategies['statusId'] == 1]\n",
    "\n",
    "# Keep only strategies that place top 10\n",
    "strategies = strategies[strategies['positionOrder'] <= 10]"
   ]
  },
  {
   "cell_type": "markdown",
   "id": "4e9fecbc-a182-47e6-b227-66abb7bee858",
   "metadata": {},
   "source": [
    "A column called 'bad' will be added to the strategies dataframe to mark the strategies I want to remove. This will allow me to easily filter them out using boolean indexing after looping through various dataframes and marking the 'bad' ones.\n",
    "\n",
    "Next, I loop through the strategies to remove those that performed poorly in the race. I consider a strategy to be poor if the driver finishes in a worse position than they started. This may potentially eliminate valid strategies from drivers who were overtaken by a faster driver with a bad qualifying run, but I am okay with this simplification."
   ]
  },
  {
   "cell_type": "code",
   "execution_count": 57,
   "id": "00806f3f-b33d-48f9-b0d9-1a22910237a9",
   "metadata": {},
   "outputs": [],
   "source": [
    "# Mark strategies that finished worse than they started\n",
    "max_pos_lost = 0 # Acceptable number of positions lost from starting position\n",
    "strategies = strategies.reset_index()\n",
    "strategies['bad'] = 0 # Add a new colum to mark bad strategies\n",
    "\n",
    "for row in zip(strategies['positionOrder'], strategies['grid'], range(len(strategies))):\n",
    "    if row[0] - row[1] > max_pos_lost:\n",
    "        strategies.at[row[2], 'bad'] = 1\n",
    "\n",
    "# Remove bad rows\n",
    "strategies = strategies[strategies['bad'] == 0]"
   ]
  },
  {
   "cell_type": "markdown",
   "id": "71b7f9b6-e11b-4fd7-9e81-b752100c01e2",
   "metadata": {},
   "source": [
    "Here, I create the main dataframe that will be used to train the neural network. I achieve this by joining the dataframe containing all lap times with the strategies dataframe. However, I will do this indirectly using a dataframe I call the filter frame. This is because I don’t want to add every column from the strategies dataframe to the main dataframe when I join them; I simply want to use the strategies dataframe to filter the main one."
   ]
  },
  {
   "cell_type": "code",
   "execution_count": 60,
   "id": "949b8bc9-3441-4601-8a13-79fb5cdcf350",
   "metadata": {},
   "outputs": [],
   "source": [
    "# Inner join lap_times with an empty frame created from strategies to create the dataframe \n",
    "# This will filter out raceId/driverId rows that aren't present in strategies\n",
    "filter_frame = strategies.loc[:, ['raceId', 'driverId', 'circuitId']].set_index(['raceId', 'driverId'])\n",
    "df = lap_times.set_index(['raceId', 'driverId']).join(filter_frame, how='inner')\n",
    "df = df.reset_index() "
   ]
  },
  {
   "cell_type": "markdown",
   "id": "b5f19460-2887-49d9-a3d8-aadcdcdf5182",
   "metadata": {},
   "source": [
    "I will perform this operation many times, so I will create a funtion that removes bad rows from strategies and updates the main dataframe to reflect these changes."
   ]
  },
  {
   "cell_type": "code",
   "execution_count": 62,
   "id": "595bc201-b36d-4b8a-a433-f9017552aebc",
   "metadata": {},
   "outputs": [],
   "source": [
    "# Remove bad rows and update df to reflect new strategies \n",
    "def update_df():\n",
    "    global strategies\n",
    "    global df\n",
    "    global filter_frame\n",
    "    \n",
    "    strategies = strategies[strategies['bad'] == 0]\n",
    "    strategies = strategies.reset_index()\n",
    "    filter_frame = strategies.loc[:, ['raceId', 'driverId']].set_index(['raceId', 'driverId'])\n",
    "    df = df.set_index(['raceId', 'driverId']).join(filter_frame, how='inner')\n",
    "    df = df.reset_index() "
   ]
  },
  {
   "cell_type": "markdown",
   "id": "8b6472a0-8451-4c25-b380-13c3e61114bd",
   "metadata": {},
   "source": [
    "Next I will remove strategies that contain a lap time greater than 2:12 minutes. This is another simplification that might remove valid data from longer tracks like Circuit de Spa-Francorchamps, but a lap time this long on a typical track is indicative of an issue during the race (either from the car, a full course yellow flag, or a red flag) so I am okay with this."
   ]
  },
  {
   "cell_type": "code",
   "execution_count": 66,
   "id": "cc742c70-1290-4752-98e4-59246c4eafaa",
   "metadata": {},
   "outputs": [],
   "source": [
    "# Mark strategies with a lap time above max_laptime\n",
    "max_laptime = 132000 # Longest acceptable lap time\n",
    "strategies = strategies.set_index(['raceId', 'driverId'])\n",
    "\n",
    "for row in zip(df['milliseconds'], df['raceId'], df['driverId']):\n",
    "    if row[0] > max_laptime:\n",
    "        strategies.at[(row[1], row[2]), 'bad'] = 1\n",
    "        \n",
    "update_df()"
   ]
  },
  {
   "cell_type": "markdown",
   "id": "1d36f2a8-b20d-4ad6-ad5a-151f9f6e7de3",
   "metadata": {},
   "source": [
    "Now let's look at a histogram of the remaining laptimes in the dataframe."
   ]
  },
  {
   "cell_type": "code",
   "execution_count": 69,
   "id": "e869e4c6-f012-4a5d-8887-ca73e3b05469",
   "metadata": {},
   "outputs": [
    {
     "data": {
      "image/png": "[encoded data removed]",
      "text/plain": [
       "<Figure size 1000x400 with 1 Axes>"
      ]
     },
     "metadata": {},
     "output_type": "display_data"
    }
   ],
   "source": [
    "plt.figure(figsize=(10,4))\n",
    "plt.hist(df['milliseconds'].values, bins=100)\n",
    "plt.xlabel('Lap Times (ms)')\n",
    "plt.ylabel('Number of Laps')\n",
    "plt.title('Laptime Histogram')\n",
    "plt.show()"
   ]
  },
  {
   "cell_type": "markdown",
   "id": "9825c416-5026-4593-b0db-8d2432abc29b",
   "metadata": {},
   "source": [
    "We observe various peaks in this data, which is expected due to different track lengths and variations in car performance over the years. The data tapers off on the right side because pit stop laps and race starts necessarily have slower lap times. However, there is an obvious outlier below 60,000 ms, which comes from the 2020 Sakhir Grand Prix. This race will be removed to provide the model with more consistent data."
   ]
  },
  {
   "cell_type": "code",
   "execution_count": 72,
   "id": "8e08f6ab-8592-4ff5-8421-79fce82bfb8c",
   "metadata": {},
   "outputs": [],
   "source": [
    "# Remove the 2020 Sakhir Grand Prix\n",
    "strategies = strategies[strategies['raceId'] != 1046]\n",
    "update_df()"
   ]
  },
  {
   "cell_type": "markdown",
   "id": "9e972540-04cc-4596-84a3-d82b19b4412c",
   "metadata": {},
   "source": [
    "Before I alter the pit stops dataframe, I will join it to the original lap times and save this information for later. It will be used for calculating additional metrics later."
   ]
  },
  {
   "cell_type": "code",
   "execution_count": 75,
   "id": "f097f5ff-777c-4a44-b7d3-595accff95e9",
   "metadata": {},
   "outputs": [],
   "source": [
    "# Inner join lap_times to races\n",
    "lap_times = lap_times.set_index('raceId').join(races.set_index('raceId'), how='inner')\n",
    "lap_times = lap_times.reset_index()\n",
    "# Left join pit_stops to lap_times\n",
    "pit_stops = pit_stops.set_index(['raceId','driverId','lap'])\n",
    "lap_times = lap_times.set_index(['raceId','driverId','lap'])\n",
    "lap_times = lap_times.join(pit_stops, on=['raceId','driverId','lap'], rsuffix='_pitstop', how='left')\n",
    "lap_times = lap_times.reset_index()"
   ]
  },
  {
   "cell_type": "markdown",
   "id": "b8ad9eff-20bd-47c7-b152-40f6b299daa0",
   "metadata": {},
   "source": [
    "Similarly to how I update the main dataframe, I will update the pit stops dataframe to remove unneeded pit stops, then I will remove strategies that contain bad pit stops."
   ]
  },
  {
   "cell_type": "code",
   "execution_count": null,
   "id": "02acaa54-5eca-46d0-85d4-93fdda2a61fb",
   "metadata": {},
   "outputs": [],
   "source": [
    "# Remove pit stops not in strategies\n",
    "pit_stops = pit_stops.join(filter_frame, how='inner')\n",
    "pit_stops = pit_stops.reset_index() "
   ]
  },
  {
   "cell_type": "markdown",
   "id": "78e22b97-1230-4754-8e90-f5915c09dc7f",
   "metadata": {},
   "source": [
    "Let's look at a scatter plot of pit stops to determine the outliers."
   ]
  },
  {
   "cell_type": "code",
   "execution_count": 91,
   "id": "7047f67b-e0b7-495e-80d9-76aae87c5258",
   "metadata": {},
   "outputs": [
    {
     "data": {
      "image/png": "[encoded data removed]",
      "text/plain": [
       "<Figure size 1000x600 with 1 Axes>"
      ]
     },
     "metadata": {},
     "output_type": "display_data"
    }
   ],
   "source": [
    "plt.figure(figsize=(10,6))\n",
    "plt.scatter(pit_stops['lap'], pit_stops['milliseconds'])\n",
    "plt.xlabel('Lap Number')\n",
    "plt.ylabel('Pit Stop Duration (ms)')\n",
    "plt.title('Pit Stops')\n",
    "plt.show()"
   ]
  },
  {
   "cell_type": "markdown",
   "id": "5a4028c7-e70c-4835-ad08-1475913f6155",
   "metadata": {},
   "source": [
    "It is seen that pit stops have a consistent length of around 23 seconds, with variations resulting from the different pit lane lengths of various tracks. Outliers above 32 seconds will be removed, as they indicate some kind of problem during the pit stop. Additionally, pit stops that occur at lap 5 or earlier will be removed because they are indicative of a problem with the car or some other atypical situation. Similarly, pit stops after lap 65 will also be removed for the same reason."
   ]
  },
  {
   "cell_type": "code",
   "execution_count": 13,
   "id": "d19d6f77-30d6-44f7-bfe6-c955425abf4a",
   "metadata": {},
   "outputs": [],
   "source": [
    "# Mark strategies with bad pit stops\n",
    "max_pitstop = 32000\n",
    "pit_early = 5\n",
    "pit_late = 65\n",
    "strategies = strategies.set_index(['raceId', 'driverId'])\n",
    "\n",
    "for row in zip(pit_stops['milliseconds'], pit_stops['lap'], pit_stops['raceId'], pit_stops['driverId']):\n",
    "    if row[0] > 0:\n",
    "        if (row[0] > max_pitstop) or (row[1] <= pit_early) or (row[1] >= pit_late):\n",
    "            strategies.at[(row[2], row[3]), 'bad'] = 1\n",
    "\n",
    "update_df()"
   ]
  },
  {
   "cell_type": "markdown",
   "id": "0cc6e3ec-a9eb-4026-9feb-b22fc191e4e2",
   "metadata": {},
   "source": [
    "Here, I join the pit stop data to the main dataframe and create the target column for my model, pitNext. Since a pit stop always occurs at the end of a lap and consequently affects the lap time and data taken from that lap, the model needs to make a pit stop decision based on the previous lap's data. To correctly train the model, I need to add a column that indicates a pit stop on the *next* lap with a 1, or no pit stop on the next lap with a 0."
   ]
  },
  {
   "cell_type": "code",
   "execution_count": 15,
   "id": "c48594cd-fa8a-49d5-9068-14c688690305",
   "metadata": {},
   "outputs": [],
   "source": [
    "# Left join pit_stops to df\n",
    "pit_stops = pit_stops.set_index(['raceId','driverId','lap'])\n",
    "df = df.join(pit_stops, on=['raceId','driverId','lap'], rsuffix='Pitstop', how='left')\n",
    "\n",
    "# Create boolean for pit stop next lap\n",
    "pit_stops = pit_stops.reset_index()\n",
    "pit_next_lap = pit_stops.loc[:, ['lap']] - 1 # Subtract 1 to add the bool on the lap before a pit stop \n",
    "pit_next_lap['raceId'] = pit_stops['raceId']\n",
    "pit_next_lap['driverId'] = pit_stops['driverId']\n",
    "pit_next_lap['pitNext'] = 1\n",
    "\n",
    "# Left join pit_next_lap to df\n",
    "pit_next_lap = pit_next_lap.set_index(['raceId','driverId','lap'])\n",
    "df = df.join(pit_next_lap, on=['raceId','driverId','lap'], how='left')\n",
    "df['pitNext'] = df['pitNext'].fillna(0)"
   ]
  },
  {
   "cell_type": "markdown",
   "id": "7ebe14d8-17f1-4a1e-bea8-ff68f2015af4",
   "metadata": {},
   "source": [
    "### Data processing\n",
    "\n",
    "Here I add additional columns with information processed from the data. This will provide valuable additional insight to the model.\n",
    "I will add columns for:\n",
    "- Laps since last pit stop\n",
    "- Race progress value between 0 and 1\n",
    "- Time split from the previous lap\n",
    "- Total time since race start\n",
    "- Time gap to the car ahead\n",
    "- Is DRS available\n",
    "- Time gap to the car behind\n",
    "- Did the car ahead pit stop\n",
    "- Did the car behind pit stop\n",
    "\n",
    "(Click cells hidden to view code)"
   ]
  },
  {
   "cell_type": "code",
   "execution_count": null,
   "id": "1ae2adee-9eef-494f-a0fa-cf1fd39b59c9",
   "metadata": {},
   "outputs": [],
   "source": [
    "# calculate laps since last pit\n",
    "\n",
    "count = 0\n",
    "\n",
    "def last_pit(lap, pitstop):\n",
    "    global count\n",
    "    \n",
    "    if (lap == 1) or (not np.isnan(pitstop)):\n",
    "        count = 0\n",
    "        return count\n",
    "    \n",
    "    count += 1\n",
    "    return count\n",
    "    \n",
    "df['lapsSincePit'] = [\n",
    "    last_pit(row[0], row[1])\n",
    "    for row in zip(df['lap'], df['stop'])\n",
    "]"
   ]
  },
  {
   "cell_type": "code",
   "execution_count": null,
   "id": "a911e923-1257-4f2a-8f20-bace97c95b43",
   "metadata": {},
   "outputs": [],
   "source": [
    "# create race progress column\n",
    "\n",
    "# reverse df for easy iteration backwards\n",
    "reverse_df = df.iloc[::-1].reset_index().iloc[:,1::]\n",
    "\n",
    "race_length = 0\n",
    "\n",
    "def progress(lap):\n",
    "    global race_length\n",
    "    \n",
    "    if lap > race_length:\n",
    "        race_length = lap\n",
    "        \n",
    "    prog = lap / race_length\n",
    "    \n",
    "    if lap == 1:\n",
    "        race_length = 0\n",
    "    \n",
    "    return prog\n",
    "\n",
    "reverse_df['raceProgress'] = [\n",
    "    progress(row[0])\n",
    "    for row in zip(reverse_df['lap'])\n",
    "]\n",
    "\n",
    "# unreverse df\n",
    "df = reverse_df.iloc[::-1].reset_index().iloc[:,1::]"
   ]
  },
  {
   "cell_type": "code",
   "execution_count": null,
   "id": "20f27a1b-ad4f-4cbc-9b83-c908ef96a0ab",
   "metadata": {},
   "outputs": [],
   "source": [
    "# time split from previous lap \n",
    "\n",
    "prev = 0\n",
    "\n",
    "def split_calculate(lap, laptime):\n",
    "    global prev\n",
    "    \n",
    "    if lap == 1:\n",
    "        prev = laptime\n",
    "        return 0\n",
    "        \n",
    "    split = laptime - prev\n",
    "    prev = laptime\n",
    "    \n",
    "    return split\n",
    "    \n",
    "\n",
    "df['split'] = [\n",
    "    split_calculate(row[0], row[1])\n",
    "    for row in zip(df['lap'], df['milliseconds'])\n",
    "]"
   ]
  },
  {
   "cell_type": "code",
   "execution_count": null,
   "id": "be3f8c55-4197-42ea-8595-fa887ea726dd",
   "metadata": {},
   "outputs": [],
   "source": [
    "# create column with total time since race start in df\n",
    "\n",
    "prev = 0;\n",
    "\n",
    "def total_calc(lap, laptime):\n",
    "    global prev\n",
    "    \n",
    "    if lap == 1:\n",
    "        prev = laptime\n",
    "        return laptime\n",
    "    \n",
    "    prev += laptime\n",
    "    \n",
    "    return prev\n",
    "\n",
    "df['totalTime'] = [\n",
    "    total_calc(row[0], row[1])\n",
    "    for row in zip(df['lap'], df['milliseconds'])\n",
    "]"
   ]
  },
  {
   "cell_type": "code",
   "execution_count": null,
   "id": "b54de854-189c-4ad6-a483-ffca2084c0a7",
   "metadata": {},
   "outputs": [],
   "source": [
    "# create column with total time since race start in lap_times \n",
    "# this is needed to calculate time gaps for any car\n",
    "\n",
    "lap_times['totalTime'] = [\n",
    "    total_calc(row[0], row[1])\n",
    "    for row in zip(lap_times['lap'], lap_times['milliseconds'])\n",
    "]"
   ]
  },
  {
   "cell_type": "code",
   "execution_count": null,
   "id": "b9fe4bc7-aa82-4bad-aedc-267c8b17f5bf",
   "metadata": {},
   "outputs": [],
   "source": [
    "# create a column with the time gap to the car ahead\n",
    "\n",
    "max_gap = 40000\n",
    "\n",
    "def gap_ahead(position, raceId, lap, totalTime):\n",
    "    if position > 1:\n",
    "        car_ahead = position - 1\n",
    "        \n",
    "        car_ahead_time = lap_times.loc[\n",
    "            (lap_times['raceId'] == raceId) & \n",
    "            (lap_times['lap'] == lap) & \n",
    "            (lap_times['position'] == car_ahead), \n",
    "            'totalTime'\n",
    "        ].iloc[0]\n",
    "        \n",
    "        gap = totalTime - car_ahead_time\n",
    "        return gap\n",
    "    return max_gap\n",
    "\n",
    "print('Calculating gapAhead...')\n",
    "df['gapAhead'] = [\n",
    "    gap_ahead(row[0], row[1], row[2], row[3])\n",
    "    for row in zip(df['position'], df['raceId'], df['lap'], df['totalTime'])\n",
    "]\n",
    "print('Done')"
   ]
  },
  {
   "cell_type": "code",
   "execution_count": null,
   "id": "047736c0-9655-4f77-bfe6-2e29ca08538f",
   "metadata": {},
   "outputs": [],
   "source": [
    "# mark strategies with a large or negative gap, indicating bad data\n",
    "strategies = strategies.set_index(['raceId', 'driverId'])\n",
    "\n",
    "for row in zip(df['gapAhead'], df['raceId'], df['driverId']):\n",
    "    if not np.isnan(row[0]):\n",
    "        if row[0] > max_gap or row[0] < 0:\n",
    "            strategies.at[(row[1], row[2]), 'bad'] = 1\n",
    "         \n",
    "update_df()"
   ]
  },
  {
   "cell_type": "code",
   "execution_count": null,
   "id": "482c6254-3e70-440c-ab21-ce897844bf60",
   "metadata": {},
   "outputs": [],
   "source": [
    "# DRS available boolean?\n",
    "\n",
    "df['DRS'] = [\n",
    "    (1 if row[0] < 1000 else 0)\n",
    "    for row in zip(df['gapAhead'])    \n",
    "]"
   ]
  },
  {
   "cell_type": "code",
   "execution_count": null,
   "id": "5d5b144b-b813-4f37-961c-9ed6e0221fbf",
   "metadata": {},
   "outputs": [],
   "source": [
    "# calculate gap to the car behind \n",
    "\n",
    "max_bgap = 90000\n",
    "\n",
    "def gap_behind(position, raceId, lap, totalTime):\n",
    "    try:\n",
    "        car_behind = position + 1\n",
    "        \n",
    "        car_behind_time = lap_times.loc[\n",
    "            (lap_times['raceId'] == raceId) & \n",
    "            (lap_times['lap'] == lap) & \n",
    "            (lap_times['position'] == car_behind), \n",
    "            'totalTime'\n",
    "        ].iloc[0]\n",
    "        \n",
    "        gap = car_behind_time - totalTime\n",
    "        return gap\n",
    "    except:    \n",
    "        return max_bgap\n",
    "\n",
    "print('Calculating gapBehind...')\n",
    "df['gapBehind'] = [\n",
    "    gap_behind(row[0], row[1], row[2], row[3])\n",
    "    for row in zip(df['position'], df['raceId'], df['lap'], df['totalTime'])\n",
    "]\n",
    "print('Done')"
   ]
  },
  {
   "cell_type": "code",
   "execution_count": null,
   "id": "91dce7f5-787e-473e-959e-0e57309022a0",
   "metadata": {},
   "outputs": [],
   "source": [
    "# mark strategies with a negative gap, indicating bad data\n",
    "strategies = strategies.set_index(['raceId', 'driverId'])\n",
    "\n",
    "for row in zip(df['gapBehind'], df['raceId'], df['driverId']):\n",
    "    if not np.isnan(row[0]):\n",
    "        if row[0] > max_bgap or row[0] < 0:\n",
    "            strategies.at[(row[1], row[2]), 'bad'] = 1\n",
    "            \n",
    "update_df()"
   ]
  },
  {
   "cell_type": "code",
   "execution_count": null,
   "id": "16d53f18-32f2-4e00-a9a4-34d073da5810",
   "metadata": {},
   "outputs": [],
   "source": [
    "# did the car ahead pit boolean?\n",
    "\n",
    "def pit_ahead(position, raceId, lap):\n",
    "    if position > 1:\n",
    "        car_ahead = position - 1\n",
    "        \n",
    "        car_ahead_stop = lap_times.loc[\n",
    "            (lap_times['raceId'] == raceId) & \n",
    "            (lap_times['lap'] == lap) & \n",
    "            (lap_times['position'] == car_ahead), \n",
    "            'stop'\n",
    "        ].iloc[0]\n",
    "        \n",
    "        if not np.isnan(car_ahead_stop):\n",
    "            return 1\n",
    "        return 0\n",
    "    \n",
    "    return 0\n",
    "\n",
    "print('Calculating pitAhead...')\n",
    "df['pitAhead'] = [\n",
    "    pit_ahead(row[0], row[1], row[2])\n",
    "    for row in zip(df['position'], df['raceId'], df['lap'])\n",
    "]\n",
    "print('Done')"
   ]
  },
  {
   "cell_type": "code",
   "execution_count": null,
   "id": "740c61d8-3f93-461c-8359-4f278207ba8d",
   "metadata": {},
   "outputs": [],
   "source": [
    "# did the car behind pit bool?\n",
    "\n",
    "def pit_behind(position, raceId, lap):\n",
    "    try:\n",
    "        car_behind = position + 1\n",
    "        \n",
    "        car_behind_stop = lap_times.loc[\n",
    "            (lap_times['raceId'] == raceId) & \n",
    "            (lap_times['lap'] == lap) & \n",
    "            (lap_times['position'] == car_behind), \n",
    "            'stop'\n",
    "        ].iloc[0]\n",
    "        \n",
    "        if not np.isnan(car_behind_stop):\n",
    "            return 1\n",
    "        return 0\n",
    "    except:\n",
    "        return 0\n",
    "\n",
    "print('Calculating pitBehind...')\n",
    "df['pitBehind'] = [\n",
    "    pit_behind(row[0], row[1], row[2])\n",
    "    for row in zip(df['position'], df['raceId'], df['lap'])\n",
    "]\n",
    "print('Done')"
   ]
  },
  {
   "cell_type": "markdown",
   "id": "069e9364-938c-4326-b9a6-b39e046ebb7e",
   "metadata": {},
   "source": [
    "### Data Analysis"
   ]
  },
  {
   "cell_type": "markdown",
   "id": "e09d609e-093b-4936-9907-34c12e92efc8",
   "metadata": {},
   "source": [
    "Export the finalized dataframe for easy use without reprocessing the raw data."
   ]
  },
  {
   "cell_type": "code",
   "execution_count": null,
   "id": "1f21fd04-1a44-45f6-b1d1-90e1e4fb4a4f",
   "metadata": {},
   "outputs": [],
   "source": [
    "df.to_csv('processed_data.csv', index=False)"
   ]
  },
  {
   "cell_type": "markdown",
   "id": "45c6510d-35f7-4e78-9a23-a2c956298264",
   "metadata": {},
   "source": [
    "## LSTM Hybrid Network"
   ]
  },
  {
   "cell_type": "code",
   "execution_count": 3,
   "id": "97308558-23c3-49a6-879b-9a3dc5f82417",
   "metadata": {},
   "outputs": [],
   "source": [
    "import torch\n",
    "import torch.nn as nn\n",
    "import torch.optim as optim\n",
    "import numpy as np\n",
    "import pandas as pd\n",
    "import matplotlib.pyplot as plt\n",
    "from sklearn.metrics import f1_score, precision_score, recall_score"
   ]
  },
  {
   "cell_type": "markdown",
   "id": "aad892ec-27e6-44ff-ade6-319972128636",
   "metadata": {},
   "source": [
    "Here I will load the processed data and seperate it into training and testing sets. Three recent 2024 races are chosen as the test set to evaulate the model performance on modern races."
   ]
  },
  {
   "cell_type": "code",
   "execution_count": 6,
   "id": "c8565971-4a24-4e9e-b264-825c82a6c056",
   "metadata": {},
   "outputs": [
    {
     "data": {
      "text/html": [
       "<div>\n",
       "<style scoped>\n",
       "    .dataframe tbody tr th:only-of-type {\n",
       "        vertical-align: middle;\n",
       "    }\n",
       "\n",
       "    .dataframe tbody tr th {\n",
       "        vertical-align: top;\n",
       "    }\n",
       "\n",
       "    .dataframe thead th {\n",
       "        text-align: right;\n",
       "    }\n",
       "</style>\n",
       "<table border=\"1\" class=\"dataframe\">\n",
       "  <thead>\n",
       "    <tr style=\"text-align: right;\">\n",
       "      <th></th>\n",
       "      <th>lap</th>\n",
       "      <th>position</th>\n",
       "      <th>milliseconds</th>\n",
       "      <th>lapsSincePit</th>\n",
       "      <th>raceProgress</th>\n",
       "      <th>split</th>\n",
       "      <th>gapAhead</th>\n",
       "      <th>DRS</th>\n",
       "      <th>gapBehind</th>\n",
       "      <th>pitAhead</th>\n",
       "      <th>pitBehind</th>\n",
       "    </tr>\n",
       "  </thead>\n",
       "  <tbody>\n",
       "    <tr>\n",
       "      <th>30309</th>\n",
       "      <td>1</td>\n",
       "      <td>11</td>\n",
       "      <td>94503</td>\n",
       "      <td>0</td>\n",
       "      <td>0.017241</td>\n",
       "      <td>0</td>\n",
       "      <td>815</td>\n",
       "      <td>1</td>\n",
       "      <td>260</td>\n",
       "      <td>0</td>\n",
       "      <td>0</td>\n",
       "    </tr>\n",
       "    <tr>\n",
       "      <th>30310</th>\n",
       "      <td>2</td>\n",
       "      <td>11</td>\n",
       "      <td>84284</td>\n",
       "      <td>1</td>\n",
       "      <td>0.034483</td>\n",
       "      <td>-10219</td>\n",
       "      <td>1044</td>\n",
       "      <td>0</td>\n",
       "      <td>320</td>\n",
       "      <td>0</td>\n",
       "      <td>0</td>\n",
       "    </tr>\n",
       "    <tr>\n",
       "      <th>30311</th>\n",
       "      <td>3</td>\n",
       "      <td>11</td>\n",
       "      <td>82978</td>\n",
       "      <td>2</td>\n",
       "      <td>0.051724</td>\n",
       "      <td>-1306</td>\n",
       "      <td>952</td>\n",
       "      <td>1</td>\n",
       "      <td>614</td>\n",
       "      <td>0</td>\n",
       "      <td>0</td>\n",
       "    </tr>\n",
       "    <tr>\n",
       "      <th>30312</th>\n",
       "      <td>4</td>\n",
       "      <td>10</td>\n",
       "      <td>83742</td>\n",
       "      <td>3</td>\n",
       "      <td>0.068966</td>\n",
       "      <td>764</td>\n",
       "      <td>1258</td>\n",
       "      <td>0</td>\n",
       "      <td>577</td>\n",
       "      <td>0</td>\n",
       "      <td>0</td>\n",
       "    </tr>\n",
       "    <tr>\n",
       "      <th>30313</th>\n",
       "      <td>5</td>\n",
       "      <td>10</td>\n",
       "      <td>83294</td>\n",
       "      <td>4</td>\n",
       "      <td>0.086207</td>\n",
       "      <td>-448</td>\n",
       "      <td>996</td>\n",
       "      <td>1</td>\n",
       "      <td>843</td>\n",
       "      <td>0</td>\n",
       "      <td>0</td>\n",
       "    </tr>\n",
       "    <tr>\n",
       "      <th>...</th>\n",
       "      <td>...</td>\n",
       "      <td>...</td>\n",
       "      <td>...</td>\n",
       "      <td>...</td>\n",
       "      <td>...</td>\n",
       "      <td>...</td>\n",
       "      <td>...</td>\n",
       "      <td>...</td>\n",
       "      <td>...</td>\n",
       "      <td>...</td>\n",
       "      <td>...</td>\n",
       "    </tr>\n",
       "    <tr>\n",
       "      <th>32635</th>\n",
       "      <td>67</td>\n",
       "      <td>2</td>\n",
       "      <td>69532</td>\n",
       "      <td>16</td>\n",
       "      <td>0.943662</td>\n",
       "      <td>-17500</td>\n",
       "      <td>3061</td>\n",
       "      <td>0</td>\n",
       "      <td>1253</td>\n",
       "      <td>0</td>\n",
       "      <td>0</td>\n",
       "    </tr>\n",
       "    <tr>\n",
       "      <th>32636</th>\n",
       "      <td>68</td>\n",
       "      <td>2</td>\n",
       "      <td>69241</td>\n",
       "      <td>17</td>\n",
       "      <td>0.957746</td>\n",
       "      <td>-291</td>\n",
       "      <td>2657</td>\n",
       "      <td>0</td>\n",
       "      <td>2393</td>\n",
       "      <td>0</td>\n",
       "      <td>0</td>\n",
       "    </tr>\n",
       "    <tr>\n",
       "      <th>32637</th>\n",
       "      <td>69</td>\n",
       "      <td>2</td>\n",
       "      <td>69159</td>\n",
       "      <td>18</td>\n",
       "      <td>0.971831</td>\n",
       "      <td>-82</td>\n",
       "      <td>2069</td>\n",
       "      <td>0</td>\n",
       "      <td>2976</td>\n",
       "      <td>0</td>\n",
       "      <td>0</td>\n",
       "    </tr>\n",
       "    <tr>\n",
       "      <th>32638</th>\n",
       "      <td>70</td>\n",
       "      <td>2</td>\n",
       "      <td>69989</td>\n",
       "      <td>19</td>\n",
       "      <td>0.985915</td>\n",
       "      <td>830</td>\n",
       "      <td>2431</td>\n",
       "      <td>0</td>\n",
       "      <td>2688</td>\n",
       "      <td>0</td>\n",
       "      <td>0</td>\n",
       "    </tr>\n",
       "    <tr>\n",
       "      <th>32639</th>\n",
       "      <td>71</td>\n",
       "      <td>2</td>\n",
       "      <td>69668</td>\n",
       "      <td>20</td>\n",
       "      <td>1.000000</td>\n",
       "      <td>-321</td>\n",
       "      <td>1906</td>\n",
       "      <td>0</td>\n",
       "      <td>2627</td>\n",
       "      <td>0</td>\n",
       "      <td>0</td>\n",
       "    </tr>\n",
       "  </tbody>\n",
       "</table>\n",
       "<p>1623 rows × 11 columns</p>\n",
       "</div>"
      ],
      "text/plain": [
       "       lap  position  milliseconds  lapsSincePit  raceProgress  split  \\\n",
       "30309    1        11         94503             0      0.017241      0   \n",
       "30310    2        11         84284             1      0.034483 -10219   \n",
       "30311    3        11         82978             2      0.051724  -1306   \n",
       "30312    4        10         83742             3      0.068966    764   \n",
       "30313    5        10         83294             4      0.086207   -448   \n",
       "...    ...       ...           ...           ...           ...    ...   \n",
       "32635   67         2         69532            16      0.943662 -17500   \n",
       "32636   68         2         69241            17      0.957746   -291   \n",
       "32637   69         2         69159            18      0.971831    -82   \n",
       "32638   70         2         69989            19      0.985915    830   \n",
       "32639   71         2         69668            20      1.000000   -321   \n",
       "\n",
       "       gapAhead  DRS  gapBehind  pitAhead  pitBehind  \n",
       "30309       815    1        260         0          0  \n",
       "30310      1044    0        320         0          0  \n",
       "30311       952    1        614         0          0  \n",
       "30312      1258    0        577         0          0  \n",
       "30313       996    1        843         0          0  \n",
       "...         ...  ...        ...       ...        ...  \n",
       "32635      3061    0       1253         0          0  \n",
       "32636      2657    0       2393         0          0  \n",
       "32637      2069    0       2976         0          0  \n",
       "32638      2431    0       2688         0          0  \n",
       "32639      1906    0       2627         0          0  \n",
       "\n",
       "[1623 rows x 11 columns]"
      ]
     },
     "execution_count": 6,
     "metadata": {},
     "output_type": "execute_result"
    }
   ],
   "source": [
    "df = pd.read_csv('processed_data.csv')\n",
    "\n",
    "# Seperate data from 3/102 races for testing\n",
    "df_test = df[df['raceId'].isin([1131, 1130, 1123])]\n",
    "df_train = df[~df['raceId'].isin([1131, 1130, 1123])]\n",
    "\n",
    "# Take the necessary columns and separate the inputs/output.\n",
    "X_test = df_test.iloc[:, 2:5].join(df.iloc[:, 9:12]).join(df.iloc[:, 13::])\n",
    "y_test = df_test.iloc[:, 8]\n",
    "X_train = df_train.iloc[:, 2:5].join(df.iloc[:, 9:12]).join(df.iloc[:, 13::])\n",
    "y_train = df_train.iloc[:, 8]\n",
    "\n",
    "# Examine the test set \n",
    "X_test"
   ]
  },
  {
   "cell_type": "markdown",
   "id": "756e2f90-7362-43bc-ad98-c4c08df3ebe3",
   "metadata": {},
   "source": [
    "I will convert the sets to tensors for use with PyTorch and I will save a copy that will be used by my algorithms to decode and sort the data after applying minmax."
   ]
  },
  {
   "cell_type": "code",
   "execution_count": 9,
   "id": "9ef94496-838b-4ee1-8284-e29e1308f407",
   "metadata": {},
   "outputs": [],
   "source": [
    "# Convert the sets to tensors for use with pytorch\n",
    "X_train = torch.tensor(X_train.values).float()\n",
    "X_test = torch.tensor(X_test.values).float()\n",
    "y_train = torch.tensor(y_train.values).float().unsqueeze(1)\n",
    "y_test = torch.tensor(y_test.values).float().unsqueeze(1)\n",
    "\n",
    "# Save a copy to be used by algorithms that segment and batch the data\n",
    "X_test_original = X_test \n",
    "X_train_original = X_train"
   ]
  },
  {
   "cell_type": "code",
   "execution_count": 11,
   "id": "e70529e3-98eb-40b9-bdf1-6b759e9f881e",
   "metadata": {},
   "outputs": [],
   "source": [
    "# Minmax the data\n",
    "min_val = X_train.min(axis=0)[0]  # Column-wise min\n",
    "max_val = X_train.max(axis=0)[0]  # Column-wise max\n",
    "X_train = (X_train - min_val) / (max_val - min_val)  # Scale training data to [0, 1]\n",
    "X_test = (X_test - min_val) / (max_val - min_val)    # Scale test data using training min and max"
   ]
  },
  {
   "cell_type": "code",
   "execution_count": 13,
   "id": "70ec819d-2d66-4497-b295-43b75cf1398d",
   "metadata": {},
   "outputs": [],
   "source": [
    "def LSTM_data_segments(X_orig, X, y, WS):\n",
    "    X_segments = []\n",
    "    y_values = []\n",
    "    i = 0\n",
    "    while (i < len(X)):\n",
    "        if X_orig[i][0] == 1: # if lap = 1, jump to lap window size\n",
    "            i += WS - 1\n",
    "            continue\n",
    "        X_segments.append(X[i-WS+1:i+1]) # append the window\n",
    "        y_values.append(y[i]) # append the pit stop decision\n",
    "        i += 1\n",
    "\n",
    "    # convert to tensors\n",
    "    X_segments = torch.stack(X_segments)  # stack X_segments list into a single tensor\n",
    "    y_values = torch.stack(y_values)\n",
    "    return X_segments, y_values\n",
    "\n",
    "WS = 3 # window size (number of laps to evaluate at a time)\n",
    "\n",
    "X_test, y_test = LSTM_data_segments(X_test_original, X_test, y_test, WS)\n",
    "X_train, y_train = LSTM_data_segments(X_train_original, X_train, y_train, WS)"
   ]
  },
  {
   "cell_type": "code",
   "execution_count": 14,
   "id": "1b6ebfa5-127e-44ab-ae98-0926182becf9",
   "metadata": {},
   "outputs": [],
   "source": [
    "# custom batches based on complete strategies\n",
    "def LSTM_data_batches(X, y):\n",
    "    X_batches = []\n",
    "    y_batches = []\n",
    "\n",
    "    j = 0\n",
    "    for i in range(len(X)):\n",
    "\n",
    "        if X[i][2][4] > 0.999: # race progress == 1 (end of race)\n",
    "            X_batches.append(X[j:i+1])\n",
    "            y_batches.append(y[j:i+1])\n",
    "            j = i + 1\n",
    "\n",
    "    return X_batches, y_batches\n",
    "    \n",
    "X_test_batches, y_test_batches = LSTM_data_batches(X_test, y_test)\n",
    "X_train_batches, y_train_batches = LSTM_data_batches(X_train, y_train)"
   ]
  },
  {
   "cell_type": "code",
   "execution_count": 781,
   "id": "320bc998-1513-4a5b-9b12-dc6a087517ca",
   "metadata": {},
   "outputs": [],
   "source": [
    "class LSTMHybrid(nn.Module):\n",
    "    def __init__(self, input_size=11, hidden_size=128, num_layers=1, output_size=1):\n",
    "        super().__init__()\n",
    "        self.hidden_size = hidden_size\n",
    "        self.num_layers = num_layers    \n",
    "\n",
    "        #LSTM layers\n",
    "        self.lstm = nn.LSTM(input_size, hidden_size, num_layers, batch_first=True)\n",
    "\n",
    "        # Fully connected layers\n",
    "        self.fc_layers = nn.Sequential(\n",
    "            nn.Linear(hidden_size, hidden_size),\n",
    "            nn.ReLU(),\n",
    "            nn.Linear(hidden_size, hidden_size),\n",
    "            nn.ReLU(),\n",
    "            nn.Linear(hidden_size, output_size)  # Final output layer\n",
    "        )\n",
    "\n",
    "    def forward(self, x):\n",
    "        # Create zeroed hidden and cell states\n",
    "        hidden_states = torch.zeros(self.num_layers, x.size(0), self.hidden_size)\n",
    "        cell_states = torch.zeros(self.num_layers, x.size(0), self.hidden_size)\n",
    "\n",
    "        # Pass the input as well as the zero hidden and cell states through the LSTM\n",
    "        out, _ = self.lstm(x, (hidden_states, cell_states))\n",
    "        out = out[:, -1, :]  # Get the output of the last time step\n",
    "        \n",
    "        # Pass the last time stop through fully connected layers\n",
    "        out = self.fc_layers(out)\n",
    "        \n",
    "        return out"
   ]
  },
  {
   "cell_type": "code",
   "execution_count": 21,
   "id": "bbc448be-3f52-4fa9-ac71-260aa1f9bd27",
   "metadata": {},
   "outputs": [
    {
     "name": "stdout",
     "output_type": "stream",
     "text": [
      "tensor(35.4897)\n"
     ]
    }
   ],
   "source": [
    "model = LSTMHybrid(11, 128, 1, 1)\n",
    "\n",
    "pit_weight = ((len(y_train) - y_train.sum()) / y_train.sum()) # calculated weight\n",
    "print(pit_weight)\n",
    "\n",
    "criterion = nn.BCEWithLogitsLoss(pos_weight = pit_weight) # binary cross entropy loss function\n",
    "optimizer = optim.Adam(model.parameters(), lr=0.0005)"
   ]
  },
  {
   "cell_type": "markdown",
   "id": "57b2f55e-bedf-4c5a-ae2e-1a056233fab0",
   "metadata": {},
   "source": [
    "It's actually best not to shuffle the batches randomly for each epoch because of the nature of the data. The batches from newer races will be trained last in each epoch allowing it to have a greater effect on the final result. This is actully desired and reflected in the scores on the test data when trying both methods. Newer races will better reflect strategies that work with the current regulations and cars, so allowing them to have a greater influence on the model works well."
   ]
  },
  {
   "cell_type": "code",
   "execution_count": 702,
   "id": "95d0c4e6-fef7-4e8c-9723-28ff80bab13e",
   "metadata": {},
   "outputs": [
    {
     "name": "stdout",
     "output_type": "stream",
     "text": [
      "Epoch [3], Loss: 1.0272563431267825\n",
      "Epoch [6], Loss: 0.9659454186737173\n",
      "Epoch [9], Loss: 0.9251780400693781\n",
      "Epoch [12], Loss: 0.9116450887469313\n"
     ]
    }
   ],
   "source": [
    "num_epochs = 15\n",
    "losses = []\n",
    "data_loader = list(zip(X_train_batches, y_train_batches))\n",
    "\n",
    "for epoch in range(num_epochs):\n",
    "    epoch_loss = 0\n",
    "\n",
    "    for X_batch, y_batch in data_loader:\n",
    "        # forward pass\n",
    "        y_pred = model(X_batch)\n",
    "        loss = criterion(y_pred, y_batch)\n",
    "\n",
    "        # backward pass\n",
    "        optimizer.zero_grad()\n",
    "        loss.backward()\n",
    "        optimizer.step()\n",
    "\n",
    "        epoch_loss += loss.item()\n",
    "    \n",
    "    epoch_loss /= len(X_train_batches)\n",
    "    losses.append(epoch_loss)\n",
    "    if (epoch + 1) % 3 == 0:\n",
    "        print(f'Epoch [{epoch + 1}], Loss: {epoch_loss}')"
   ]
  },
  {
   "cell_type": "code",
   "execution_count": 703,
   "id": "edd99ee4-c754-4a5f-b0c6-e2bf619e208e",
   "metadata": {},
   "outputs": [
    {
     "data": {
      "image/png": "[encoded data removed]",
      "text/plain": [
       "<Figure size 640x480 with 1 Axes>"
      ]
     },
     "metadata": {},
     "output_type": "display_data"
    }
   ],
   "source": [
    "#plt.figure(figsize=(10,5))\n",
    "plt.plot(range(0, len(losses)), losses[0::])\n",
    "plt.xlabel('Epoch')\n",
    "plt.ylabel('Loss')\n",
    "plt.title('Loss vs Epochs')\n",
    "plt.show()"
   ]
  },
  {
   "cell_type": "code",
   "execution_count": 33,
   "id": "d9e96286-8468-440b-a9dc-bf20a239f80d",
   "metadata": {},
   "outputs": [
    {
     "name": "stdout",
     "output_type": "stream",
     "text": [
      "Average Loss on Test Set: 1.0147128772735596\n"
     ]
    }
   ],
   "source": [
    "model.eval()\n",
    "total_loss = 0.0\n",
    "predictions = []\n",
    "true_labels = []\n",
    "\n",
    "with torch.no_grad():  # disable gradient computation\n",
    "    \n",
    "    for X_batch, y_batch in zip(X_test_batches, y_test_batches):\n",
    "        # Forward pass\n",
    "        y_pred = model(X_batch)\n",
    "        # Calculate loss\n",
    "        loss = criterion(y_pred, y_batch)\n",
    "        total_loss += loss.item()  # Accumulate total loss\n",
    "\n",
    "        predictions.append(y_pred)\n",
    "        true_labels.append(y_batch)\n",
    "\n",
    "average_loss = total_loss / len(X_test_batches)\n",
    "\n",
    "predictions = torch.cat(predictions)  # Combine all predictions into a single tensor\n",
    "true_labels = torch.cat(true_labels)  # Combine all true labels into a single tensor\n",
    "\n",
    "# Print average loss\n",
    "print(f'Average Loss on Test Set: {average_loss}')"
   ]
  },
  {
   "cell_type": "code",
   "execution_count": 35,
   "id": "40cb2cf6-528e-4398-82d8-8966b241c6fa",
   "metadata": {},
   "outputs": [
    {
     "name": "stdout",
     "output_type": "stream",
     "text": [
      "1623 1623\n"
     ]
    }
   ],
   "source": [
    "# reasemble the predictions from the segments (insert the missing laps as 0s)\n",
    "result = []\n",
    "j = 0\n",
    "for i in range(len(X_test_original)):\n",
    "    if X_test_original[i][0] >= WS:\n",
    "        result.append(torch.sigmoid(predictions[j]))\n",
    "        j += 1\n",
    "    else:\n",
    "        result.append(0)\n",
    "\n",
    "print(len(X_test_original), len(result))"
   ]
  },
  {
   "cell_type": "code",
   "execution_count": 79,
   "id": "59a1acd0-e695-4ac7-8ce3-cb6d407e84c0",
   "metadata": {},
   "outputs": [
    {
     "name": "stdout",
     "output_type": "stream",
     "text": [
      "[  1 807 815 817 825 832 842 847 857]\n"
     ]
    }
   ],
   "source": [
    "test = df_test.copy()\n",
    "test['predictedNext'] = result\n",
    "race1 = test[test['raceId'] == 1131] # 1131 most recent\n",
    "print(race1['driverId'].unique())\n",
    "driver1_1 = race1[race1['driverId'] == 1] #1 847\n",
    "driver2_1 = race1[race1['driverId'] == 807] #807 #832 is good 815"
   ]
  },
  {
   "cell_type": "code",
   "execution_count": 81,
   "id": "e98c49b8-9947-4e2e-a974-8dc061c45de3",
   "metadata": {},
   "outputs": [
    {
     "data": {
      "image/png": "[encoded data removed]",
      "text/plain": [
       "<Figure size 1200x500 with 1 Axes>"
      ]
     },
     "metadata": {},
     "output_type": "display_data"
    }
   ],
   "source": [
    "plt.figure(figsize=(12,5))\n",
    "plt.axhline(y=0.5, color='black', linestyle=':', linewidth=0.75)\n",
    "plt.scatter(driver1_1['lap'], driver1_1['predictedNext'], marker='d', label=' ')\n",
    "plt.stem(driver1_1['lap'], driver1_1['pitNext'], markerfmt='none')\n",
    "plt.scatter(driver2_1['lap'], driver2_1['predictedNext'], marker='d', label=' ')\n",
    "plt.stem(driver2_1['lap'], driver2_1['pitNext'], markerfmt='none', linefmt='orange')\n",
    "plt.xlabel('Lap')\n",
    "plt.ylabel('Probability of Pit Stop')\n",
    "plt.title('LSTM Pit Stop Prediction')\n",
    "plt.legend()\n",
    "plt.show()"
   ]
  },
  {
   "cell_type": "markdown",
   "id": "d8350e44-c297-470a-9313-fd61a99ed8d7",
   "metadata": {},
   "source": [
    "### Evaluation\n",
    "\n",
    "Using the F1 score which measures both precision and recall\n",
    "\n",
    "Recall (Sensitivity or True Positive Rate): The ratio of true positives to all actual positives (both true positives and false negatives) is more important"
   ]
  },
  {
   "cell_type": "code",
   "execution_count": 42,
   "id": "67cb5715-dcda-45ee-a0dd-b55dd4714540",
   "metadata": {},
   "outputs": [
    {
     "name": "stdout",
     "output_type": "stream",
     "text": [
      "0.28030303030303033 0.7254901960784313 0.17370892018779344\n"
     ]
    }
   ],
   "source": [
    "f1 = f1_score((test['pitNext'] > 0), (test['predictedNext'] >= 0.5))\n",
    "recall = recall_score((test['pitNext'] > 0), (test['predictedNext'] >= 0.5))\n",
    "precision = precision_score((test['pitNext'] > 0), (test['predictedNext'] >= 0.5))\n",
    "\n",
    "print(f1, recall, precision)"
   ]
  },
  {
   "cell_type": "markdown",
   "id": "3ae0bf72-34e4-47cd-bf69-ed0dec1241f4",
   "metadata": {},
   "source": [
    "### Saving the model"
   ]
  },
  {
   "cell_type": "code",
   "execution_count": 779,
   "id": "23818370-3eaa-4656-91bd-216999a9472c",
   "metadata": {},
   "outputs": [],
   "source": [
    "save_state = {\n",
    "    'model':model.state_dict(), \n",
    "    'optimizer':optimizer.state_dict(), \n",
    "    'min_val': min_val,\n",
    "    'max_val': max_val\n",
    "    }\n",
    "# torch.save(save_state, 'LSTM_hybrid_trained_V2.pth')"
   ]
  },
  {
   "cell_type": "markdown",
   "id": "c8a971bb-767d-41d6-99e6-b7d15d2d7e0b",
   "metadata": {},
   "source": [
    "## User Interface"
   ]
  },
  {
   "cell_type": "code",
   "execution_count": 31,
   "id": "cb336334-46b6-4a2c-b454-82eaa6462072",
   "metadata": {},
   "outputs": [
    {
     "data": {
      "text/plain": [
       "LSTMHybrid(\n",
       "  (lstm): LSTM(11, 128, batch_first=True)\n",
       "  (fc_layers): Sequential(\n",
       "    (0): Linear(in_features=128, out_features=128, bias=True)\n",
       "    (1): ReLU()\n",
       "    (2): Linear(in_features=128, out_features=128, bias=True)\n",
       "    (3): ReLU()\n",
       "    (4): Linear(in_features=128, out_features=1, bias=True)\n",
       "  )\n",
       ")"
      ]
     },
     "execution_count": 31,
     "metadata": {},
     "output_type": "execute_result"
    }
   ],
   "source": [
    "import torch\n",
    "import ipywidgets as widgets\n",
    "from IPython.display import display\n",
    "from lstmhybrid import LSTMHybrid\n",
    "\n",
    "state = torch.load('LSTM_hybrid_trained.pth')\n",
    "\n",
    "model = LSTMHybrid()\n",
    "model.load_state_dict(state['model'])\n",
    "optimizer.load_state_dict(state['optimizer'])\n",
    "min_val = state['min_val']\n",
    "max_val = state['max_val']\n",
    "\n",
    "model.eval()"
   ]
  },
  {
   "cell_type": "code",
   "execution_count": 44,
   "id": "9c7a21ca-8abf-4d52-b7ed-b83fc74772a8",
   "metadata": {},
   "outputs": [
    {
     "data": {
      "application/vnd.jupyter.widget-view+json": {
       "model_id": "9bc10ff6fb254d598cb1133d1df3bc43",
       "version_major": 2,
       "version_minor": 0
      },
      "text/plain": [
       "IntText(value=0, description='Race Length:')"
      ]
     },
     "metadata": {},
     "output_type": "display_data"
    },
    {
     "data": {
      "application/vnd.jupyter.widget-view+json": {
       "model_id": "0c802ec00a7f4acbaf4bd4bf744714bc",
       "version_major": 2,
       "version_minor": 0
      },
      "text/plain": [
       "IntText(value=0, description='Lap:')"
      ]
     },
     "metadata": {},
     "output_type": "display_data"
    },
    {
     "data": {
      "application/vnd.jupyter.widget-view+json": {
       "model_id": "1a3bc2e77faa4e3baf46a19d6b901e80",
       "version_major": 2,
       "version_minor": 0
      },
      "text/plain": [
       "IntText(value=0, description='Lap Last Pit:')"
      ]
     },
     "metadata": {},
     "output_type": "display_data"
    },
    {
     "data": {
      "application/vnd.jupyter.widget-view+json": {
       "model_id": "de97f26ce75b40dd83b01957118f5077",
       "version_major": 2,
       "version_minor": 0
      },
      "text/plain": [
       "IntText(value=0, description='Position:')"
      ]
     },
     "metadata": {},
     "output_type": "display_data"
    },
    {
     "data": {
      "application/vnd.jupyter.widget-view+json": {
       "model_id": "609766eaf8f446f0b56cceefc60d83b6",
       "version_major": 2,
       "version_minor": 0
      },
      "text/plain": [
       "IntText(value=0, description='Laptime (ms):')"
      ]
     },
     "metadata": {},
     "output_type": "display_data"
    },
    {
     "data": {
      "application/vnd.jupyter.widget-view+json": {
       "model_id": "7c810d0d066d41b1bf331a5caa427137",
       "version_major": 2,
       "version_minor": 0
      },
      "text/plain": [
       "IntText(value=0, description='Gap Ahead:')"
      ]
     },
     "metadata": {},
     "output_type": "display_data"
    },
    {
     "data": {
      "application/vnd.jupyter.widget-view+json": {
       "model_id": "fbd33a85da4847e58077f7bef24e2d92",
       "version_major": 2,
       "version_minor": 0
      },
      "text/plain": [
       "Checkbox(value=False, description='Car Ahead Pit')"
      ]
     },
     "metadata": {},
     "output_type": "display_data"
    },
    {
     "data": {
      "application/vnd.jupyter.widget-view+json": {
       "model_id": "3ba9b61297014af4915dfc665409478d",
       "version_major": 2,
       "version_minor": 0
      },
      "text/plain": [
       "IntText(value=0, description='Gap Behind:')"
      ]
     },
     "metadata": {},
     "output_type": "display_data"
    },
    {
     "data": {
      "application/vnd.jupyter.widget-view+json": {
       "model_id": "1d268b1436874f66b897f242a5a5d4a8",
       "version_major": 2,
       "version_minor": 0
      },
      "text/plain": [
       "Checkbox(value=False, description='Car Behind Pit')"
      ]
     },
     "metadata": {},
     "output_type": "display_data"
    },
    {
     "data": {
      "application/vnd.jupyter.widget-view+json": {
       "model_id": "2ee7c33185554a6694ea5a18b9d3a0f5",
       "version_major": 2,
       "version_minor": 0
      },
      "text/plain": [
       "HBox(children=(Button(description='Input Lap', style=ButtonStyle()), Button(description='Reset Data', style=Bu…"
      ]
     },
     "metadata": {},
     "output_type": "display_data"
    },
    {
     "data": {
      "application/vnd.jupyter.widget-view+json": {
       "model_id": "8e6e741df6be40f1a4342be20c029ff4",
       "version_major": 2,
       "version_minor": 0
      },
      "text/plain": [
       "Output(layout=Layout(border_bottom='1px solid black', border_left='1px solid black', border_right='1px solid b…"
      ]
     },
     "metadata": {},
     "output_type": "display_data"
    }
   ],
   "source": [
    "# create input fields\n",
    "race_length = widgets.IntText(description='Race Length:')\n",
    "lap = widgets.IntText(description='Lap:')\n",
    "last_pit = widgets.IntText(description='Lap Last Pit:')\n",
    "position = widgets.IntText(description='Position:')\n",
    "laptime = widgets.IntText(description='Laptime (ms):')\n",
    "gap_ahead = widgets.IntText(description='Gap Ahead:')\n",
    "pit_ahead = widgets.Checkbox(value=False, description='Car Ahead Pit')\n",
    "gap_behind = widgets.IntText(description='Gap Behind:')\n",
    "pit_behind = widgets.Checkbox(value=False, description='Car Behind Pit')\n",
    "\n",
    "submit_button = widgets.Button(description='Input Lap')\n",
    "reset_button = widgets.Button(description='Reset Data')\n",
    "hbox = widgets.HBox([submit_button, reset_button])\n",
    "\n",
    "output = widgets.Output(layout={'border': '1px solid black', 'padding': '10px', 'width': '400px', 'height': '40px'})\n",
    "\n",
    "# Variables for the function\n",
    "last_lap = 0\n",
    "window = torch.zeros(1, 3, 11)\n",
    "count = 0\n",
    "\n",
    "# Define a function to handle the button click\n",
    "def on_submit(b):\n",
    "    with output:\n",
    "        output.clear_output()\n",
    "        global last_lap\n",
    "        global count\n",
    "        global window\n",
    "\n",
    "        # Input validation \n",
    "        if race_length.value <= 0:\n",
    "            print(\"Error: Race Length must be greater than 0\")\n",
    "            return\n",
    "        if lap.value <= 0 or lap.value > race_length.value:\n",
    "            print(\"Error: Lap must be greater than 0 and less than or equal to Race Length\")\n",
    "            return\n",
    "        if laptime.value <= 0:\n",
    "            print(\"Error: Laptime must be greater than 0\")\n",
    "            return\n",
    "        if gap_ahead.value < 0 or gap_behind.value < 0:\n",
    "            print(\"Error: Gap Ahead and Gap Behind must be non-negative\")\n",
    "            return\n",
    "        if last_pit.value < 0 or last_pit.value > lap.value:\n",
    "            print(\"Error: Lap Last Pit must be non-negative and less than or equal the current Lap\")\n",
    "            return\n",
    "        \n",
    "        # create tensor from input\n",
    "        lap_data = torch.tensor([\n",
    "            lap.value,\n",
    "            position.value,\n",
    "            laptime.value, # milliseconds\n",
    "            (lap.value - last_pit.value), # lapsSincePit\n",
    "            (lap.value / race_length.value), # raceProgress\n",
    "            (0 if last_lap == 0 else (laptime.value - last_lap)), #split\n",
    "            gap_ahead.value,\n",
    "            (1 if gap_ahead.value < 999 else 0), # DRS\n",
    "            gap_behind.value,\n",
    "            (1 if pit_ahead.value else 0),\n",
    "            (1 if pit_behind.value else 0)\n",
    "        ])\n",
    "        \n",
    "        last_lap = laptime.value # used to calculate splits automatically\n",
    "        \n",
    "        # minmax data\n",
    "        lap_data = (lap_data - min_val) / (max_val - min_val) \n",
    "        # insert data to tensor\n",
    "        window[0][2] = window[0][1]\n",
    "        window[0][1] = window[0][0]\n",
    "        window[0][0] = lap_data\n",
    "\n",
    "        # evaluate with model and display\n",
    "        count += 1        \n",
    "        pit_pred = 0\n",
    "        if count >= 3:\n",
    "            pit_pred = torch.sigmoid(model(window))\n",
    "            print(f'Pit stop next lap probability: %{(pit_pred.item() * 100):.1f}')\n",
    "        else:\n",
    "            print('Input ', (3 - count), ' more laps for evaluation')\n",
    "        \n",
    "        lap.value += 1\n",
    "        laptime.value = 0\n",
    "        gap_ahead.value = 0\n",
    "        pit_ahead.value = False\n",
    "        gap_behind.value = 0\n",
    "        pit_behind.value = False\n",
    "\n",
    "def on_reset(b):\n",
    "    with output:\n",
    "        output.clear_output()\n",
    "        global last_lap\n",
    "        global count\n",
    "        global window\n",
    "        last_lap = 0\n",
    "        window = torch.zeros(1, 3, 11)\n",
    "        count = 0\n",
    "        race_length.value = 0\n",
    "        lap.value = 0\n",
    "        last_pit.value = 0\n",
    "        position.value = 0\n",
    "        laptime.value = 0\n",
    "        gap_ahead.value = 0\n",
    "        pit_ahead.value = False\n",
    "        gap_behind.value = 0\n",
    "        pit_behind.value = False\n",
    "        print(\"Input data has been reset\")\n",
    "\n",
    "# Link the button click event to the function\n",
    "submit_button.on_click(on_submit)\n",
    "reset_button.on_click(on_reset)\n",
    "\n",
    "# Display the form\n",
    "display(race_length, lap, last_pit, position, laptime, gap_ahead, pit_ahead, \n",
    "        gap_behind, pit_behind, hbox, output)"
   ]
  },
  {
   "cell_type": "code",
   "execution_count": null,
   "id": "91f1fd65-42f7-4787-ada2-962648625182",
   "metadata": {},
   "outputs": [],
   "source": []
  }
 ],
 "metadata": {
  "kernelspec": {
   "display_name": "Python 3 (ipykernel)",
   "language": "python",
   "name": "python3"
  },
  "language_info": {
   "codemirror_mode": {
    "name": "ipython",
    "version": 3
   },
   "file_extension": ".py",
   "mimetype": "text/x-python",
   "name": "python",
   "nbconvert_exporter": "python",
   "pygments_lexer": "ipython3",
   "version": "3.8.12"
  }
 },
 "nbformat": 4,
 "nbformat_minor": 5
}
