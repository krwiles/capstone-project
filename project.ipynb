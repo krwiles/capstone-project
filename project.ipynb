{
 "cells": [
  {
   "cell_type": "markdown",
   "id": "453130ff-9419-44d5-8815-32809521da88",
   "metadata": {},
   "source": [
    "# Modeling Pit Stop Strategy in Formula 1 \n",
    "Computer Science Capstone Project <br>\n",
    "Kurtis Wiles "
   ]
  },
  {
   "cell_type": "markdown",
   "id": "697442aa-cf05-4217-9d75-0ca5a479ef11",
   "metadata": {},
   "source": [
    "## Data Pre-processing"
   ]
  },
  {
   "cell_type": "markdown",
   "id": "c62c4121-3771-4a35-b27e-8d13c1fdd2f3",
   "metadata": {},
   "source": [
    "### Initial filtering/sampling\n",
    "This includes removing all strategies with the following conditions:\n",
    "- Data older than 2014\n",
    "- Driver didn't complete the race\n",
    "- Finished outside the top 10\n",
    "- Finished worse than their starting grid position\n",
    "- Had a lap exceeding 2:12 minutes\n",
    "- Pit stops longer than 32 seconds\n",
    "- Pit stops before lap 5\n",
    "- Pit stops after lap 65"
   ]
  },
  {
   "cell_type": "code",
   "execution_count": 4,
   "id": "fb14b4e4-68df-40b7-8540-70bdfd0414eb",
   "metadata": {},
   "outputs": [],
   "source": [
    "import numpy as np\n",
    "import pandas as pd\n",
    "import matplotlib.pyplot as plt"
   ]
  },
  {
   "cell_type": "markdown",
   "id": "d6f5af8d-1bec-46ba-a165-c23fd1fc27fb",
   "metadata": {},
   "source": [
    "I will start by loading the data and removing columns from the dataframes that will not be needed."
   ]
  },
  {
   "cell_type": "code",
   "execution_count": 6,
   "id": "56834d37-38db-4588-afe2-fcb9f370074c",
   "metadata": {},
   "outputs": [],
   "source": [
    "races = pd.read_csv('./data/races.csv')\n",
    "lap_times = pd.read_csv('./data/lap_times.csv')\n",
    "pit_stops = pd.read_csv('./data/pit_stops.csv')\n",
    "results = pd.read_csv('./data/results.csv')\n",
    "\n",
    "# Remove unneeded columns from races\n",
    "races = races.iloc[:, 0:6]\n",
    "races.drop(['round', 'date'], axis=1, inplace=True)\n",
    "\n",
    "# Remove unneeded columns from results\n",
    "results = results.loc[:, ['raceId', 'driverId', 'grid', 'positionOrder', 'statusId']]\n",
    "\n",
    "# Remove unneeded columns from lap_times\n",
    "lap_times.drop('time', axis=1, inplace=True)\n",
    "\n",
    "# Remove unneeded columns from pit_stops\n",
    "pit_stops.drop(['time', 'duration'], axis=1, inplace=True)"
   ]
  },
  {
   "cell_type": "markdown",
   "id": "708a30c9-db87-4bbb-9cd7-26a2ccc3f0a7",
   "metadata": {},
   "source": [
    "The data ultimately fed into the neural network will consist of lap-by-lap data from various drivers across an entire race. If there is bad data from any lap for any reason, it will invalidate the data for that driver’s entire race. This is because I don't want the network to learn from races with unusual or unpredictable circumstances. To easily keep track of this and to easily remove an entire driver's race from the dataframe, I will maintain a separate dataframe for tracking (race, driver) pairs, which I will refer to as strategies.\n",
    "\n",
    "I will begin to construct this dataframe as well as remove rows from it that contain data I do not want to train on. Data I do not want here consists of:\n",
    "- Races pre-2014 (this will keep the data relevant to the hybrid era of Formula 1)\n",
    "- Strategies that did not complete the race (for obvious reasons)\n",
    "- Strategies that did not result in a top 10 finish (to train only on strategies from successful teams)"
   ]
  },
  {
   "cell_type": "code",
   "execution_count": 8,
   "id": "9f1b70a9-3d34-45df-81b3-851b3ee23c01",
   "metadata": {},
   "outputs": [],
   "source": [
    "# Remove races older than 2014 with Boolean indexing\n",
    "races = races[races['year'] >= 2014]\n",
    "\n",
    "# Inner join results with races to create a dataframe of strategies\n",
    "strategies = results.set_index('raceId').join(races.set_index('raceId'), rsuffix='_race', how='inner')\n",
    "\n",
    "# Keep only strategies that complete a race\n",
    "strategies = strategies[strategies['statusId'] == 1]\n",
    "\n",
    "# Keep only strategies that place top 10\n",
    "strategies = strategies[strategies['positionOrder'] <= 10]"
   ]
  },
  {
   "cell_type": "markdown",
   "id": "4e9fecbc-a182-47e6-b227-66abb7bee858",
   "metadata": {},
   "source": [
    "A column called 'bad' will be added to the strategies dataframe to mark the strategies I want to remove. This will allow me to easily filter them out using boolean indexing after looping through various dataframes and marking the 'bad' ones.\n",
    "\n",
    "Next, I loop through the strategies to remove those that performed poorly in the race. I consider a strategy to be poor if the driver finishes in a worse position than they started. This may potentially eliminate valid strategies from drivers who were overtaken by a faster driver with a bad qualifying run, but I am okay with this simplification."
   ]
  },
  {
   "cell_type": "code",
   "execution_count": 10,
   "id": "00806f3f-b33d-48f9-b0d9-1a22910237a9",
   "metadata": {},
   "outputs": [],
   "source": [
    "# Mark strategies that finished worse than they started\n",
    "max_pos_lost = 0 # Acceptable number of positions lost from starting position\n",
    "strategies = strategies.reset_index()\n",
    "strategies['bad'] = 0 # Add a new colum to mark bad strategies\n",
    "\n",
    "for row in zip(strategies['positionOrder'], strategies['grid'], range(len(strategies))):\n",
    "    if row[0] - row[1] > max_pos_lost:\n",
    "        strategies.at[row[2], 'bad'] = 1\n",
    "\n",
    "# Remove bad rows\n",
    "strategies = strategies[strategies['bad'] == 0]"
   ]
  },
  {
   "cell_type": "markdown",
   "id": "71b7f9b6-e11b-4fd7-9e81-b752100c01e2",
   "metadata": {},
   "source": [
    "Here, I create the main dataframe that will be used to train the neural network. I achieve this by joining the dataframe containing all lap times with the strategies dataframe. However, I will do this indirectly using a dataframe I call the filter frame. This is because I don’t want to add every column from the strategies dataframe to the main dataframe when I join them; I simply want to use the strategies dataframe to filter the main one."
   ]
  },
  {
   "cell_type": "code",
   "execution_count": 12,
   "id": "949b8bc9-3441-4601-8a13-79fb5cdcf350",
   "metadata": {},
   "outputs": [],
   "source": [
    "# Inner join lap_times with an empty frame created from strategies to create the dataframe \n",
    "# This will filter out raceId/driverId rows that aren't present in strategies\n",
    "filter_frame = strategies.loc[:, ['raceId', 'driverId', 'circuitId']].set_index(['raceId', 'driverId'])\n",
    "df = lap_times.set_index(['raceId', 'driverId']).join(filter_frame, how='inner')\n",
    "df = df.reset_index() "
   ]
  },
  {
   "cell_type": "markdown",
   "id": "b5f19460-2887-49d9-a3d8-aadcdcdf5182",
   "metadata": {},
   "source": [
    "I will perform this operation many times, so I will create a funtion that removes bad rows from strategies and updates the main dataframe to reflect these changes."
   ]
  },
  {
   "cell_type": "code",
   "execution_count": 14,
   "id": "595bc201-b36d-4b8a-a433-f9017552aebc",
   "metadata": {},
   "outputs": [],
   "source": [
    "# Remove bad rows and update df to reflect new strategies \n",
    "def update_df():\n",
    "    global strategies\n",
    "    global df\n",
    "    global filter_frame\n",
    "    \n",
    "    strategies = strategies[strategies['bad'] == 0]\n",
    "    strategies = strategies.reset_index()\n",
    "    filter_frame = strategies.loc[:, ['raceId', 'driverId']].set_index(['raceId', 'driverId'])\n",
    "    df = df.set_index(['raceId', 'driverId']).join(filter_frame, how='inner')\n",
    "    df = df.reset_index() "
   ]
  },
  {
   "cell_type": "markdown",
   "id": "8b6472a0-8451-4c25-b380-13c3e61114bd",
   "metadata": {},
   "source": [
    "Next I will remove strategies that contain a lap time greater than 2:12 minutes. This is another simplification that might remove valid data from longer tracks like Circuit de Spa-Francorchamps, but a lap time this long on a typical track is indicative of an issue during the race (either from the car, a full course yellow flag, or a red flag) so I am okay with this."
   ]
  },
  {
   "cell_type": "code",
   "execution_count": 16,
   "id": "cc742c70-1290-4752-98e4-59246c4eafaa",
   "metadata": {},
   "outputs": [],
   "source": [
    "# Mark strategies with a lap time above max_laptime\n",
    "max_laptime = 132000 # Longest acceptable lap time\n",
    "strategies = strategies.set_index(['raceId', 'driverId'])\n",
    "\n",
    "for row in zip(df['milliseconds'], df['raceId'], df['driverId']):\n",
    "    if row[0] > max_laptime:\n",
    "        strategies.at[(row[1], row[2]), 'bad'] = 1\n",
    "        \n",
    "update_df()"
   ]
  },
  {
   "cell_type": "markdown",
   "id": "1d36f2a8-b20d-4ad6-ad5a-151f9f6e7de3",
   "metadata": {},
   "source": [
    "Now let's look at a histogram of the remaining laptimes in the dataframe."
   ]
  },
  {
   "cell_type": "code",
   "execution_count": 18,
   "id": "e869e4c6-f012-4a5d-8887-ca73e3b05469",
   "metadata": {
    "jupyter": {
     "source_hidden": true
    }
   },
   "outputs": [
    {
     "data": {
      "image/png": "[encoded data removed]",
      "text/plain": [
       "<Figure size 1000x400 with 1 Axes>"
      ]
     },
     "metadata": {},
     "output_type": "display_data"
    }
   ],
   "source": [
    "plt.figure(figsize=(10,4))\n",
    "plt.hist(df['milliseconds'].values, bins=100)\n",
    "plt.xlabel('Lap Times (ms)')\n",
    "plt.ylabel('Number of Laps')\n",
    "plt.title('Laptime Histogram')\n",
    "plt.show()"
   ]
  },
  {
   "cell_type": "markdown",
   "id": "9825c416-5026-4593-b0db-8d2432abc29b",
   "metadata": {},
   "source": [
    "There are various peaks in this data, which is expected due to different track lengths and variations in car performance over the years. The data tapers off on the right side because pit stop laps and race starts necessarily have slower lap times. However, there is an obvious outlier below 60,000 ms, which comes from the 2020 Sakhir Grand Prix. This race will be removed to provide the model with more consistent data."
   ]
  },
  {
   "cell_type": "code",
   "execution_count": 20,
   "id": "8e08f6ab-8592-4ff5-8421-79fce82bfb8c",
   "metadata": {},
   "outputs": [],
   "source": [
    "# Remove the 2020 Sakhir Grand Prix\n",
    "strategies = strategies[strategies['raceId'] != 1046]\n",
    "update_df()"
   ]
  },
  {
   "cell_type": "markdown",
   "id": "9e972540-04cc-4596-84a3-d82b19b4412c",
   "metadata": {},
   "source": [
    "Before I alter the pit stops dataframe, I will join it to the original lap times and save this information for later. It will be used for calculating additional metrics later."
   ]
  },
  {
   "cell_type": "code",
   "execution_count": 22,
   "id": "f097f5ff-777c-4a44-b7d3-595accff95e9",
   "metadata": {},
   "outputs": [],
   "source": [
    "# Inner join lap_times to races\n",
    "lap_times = lap_times.set_index('raceId').join(races.set_index('raceId'), how='inner')\n",
    "lap_times = lap_times.reset_index()\n",
    "# Left join pit_stops to lap_times\n",
    "pit_stops = pit_stops.set_index(['raceId','driverId','lap'])\n",
    "lap_times = lap_times.set_index(['raceId','driverId','lap'])\n",
    "lap_times = lap_times.join(pit_stops, on=['raceId','driverId','lap'], rsuffix='_pitstop', how='left')\n",
    "lap_times = lap_times.reset_index()"
   ]
  },
  {
   "cell_type": "markdown",
   "id": "b8ad9eff-20bd-47c7-b152-40f6b299daa0",
   "metadata": {},
   "source": [
    "Similarly to how I update the main dataframe, I will update the pit stops dataframe to remove unneeded pit stops, then I will remove strategies that contain bad pit stops."
   ]
  },
  {
   "cell_type": "code",
   "execution_count": 24,
   "id": "02acaa54-5eca-46d0-85d4-93fdda2a61fb",
   "metadata": {},
   "outputs": [],
   "source": [
    "# Remove pit stops not in strategies\n",
    "pit_stops = pit_stops.join(filter_frame, how='inner')\n",
    "pit_stops = pit_stops.reset_index() "
   ]
  },
  {
   "cell_type": "markdown",
   "id": "78e22b97-1230-4754-8e90-f5915c09dc7f",
   "metadata": {},
   "source": [
    "Let's look at a scatter plot of pit stops to determine the outliers."
   ]
  },
  {
   "cell_type": "code",
   "execution_count": 26,
   "id": "7047f67b-e0b7-495e-80d9-76aae87c5258",
   "metadata": {},
   "outputs": [
    {
     "data": {
      "image/png": "[encoded data removed]",
      "text/plain": [
       "<Figure size 1000x600 with 1 Axes>"
      ]
     },
     "metadata": {},
     "output_type": "display_data"
    }
   ],
   "source": [
    "plt.figure(figsize=(10,6))\n",
    "plt.scatter(pit_stops['lap'], pit_stops['milliseconds'])\n",
    "plt.xlabel('Lap Number')\n",
    "plt.ylabel('Pit Stop Duration (ms)')\n",
    "plt.title('Pit Stops')\n",
    "plt.show()"
   ]
  },
  {
   "cell_type": "markdown",
   "id": "5a4028c7-e70c-4835-ad08-1475913f6155",
   "metadata": {},
   "source": [
    "It can be seen that pit stops have a consistent length of around 23 seconds, with variations resulting from the different pit lane lengths of different tracks. Outliers above 32 seconds will be removed, as they indicate some kind of problem during the pit stop. Additionally, pit stops that occur at lap 5 or earlier will be removed because they are indicative of a problem with the car or some other atypical situation. Similarly, pit stops after lap 65 will also be removed for the same reason."
   ]
  },
  {
   "cell_type": "code",
   "execution_count": 28,
   "id": "d19d6f77-30d6-44f7-bfe6-c955425abf4a",
   "metadata": {},
   "outputs": [],
   "source": [
    "# Mark strategies with bad pit stops\n",
    "max_pitstop = 32000\n",
    "pit_early = 5\n",
    "pit_late = 65\n",
    "strategies = strategies.set_index(['raceId', 'driverId'])\n",
    "\n",
    "for row in zip(pit_stops['milliseconds'], pit_stops['lap'], pit_stops['raceId'], pit_stops['driverId']):\n",
    "    if row[0] > 0:\n",
    "        if (row[0] > max_pitstop) or (row[1] <= pit_early) or (row[1] >= pit_late):\n",
    "            strategies.at[(row[2], row[3]), 'bad'] = 1\n",
    "\n",
    "update_df()"
   ]
  },
  {
   "cell_type": "markdown",
   "id": "0cc6e3ec-a9eb-4026-9feb-b22fc191e4e2",
   "metadata": {},
   "source": [
    "Here, I join the pit stop data to the main dataframe and create the target column for my model, pitNext. Since a pit stop always occurs at the end of a lap and consequently affects the lap time and data taken from that lap, the model needs to make a pit stop decision based on the previous lap's data. To correctly train the model, I need to add a column that indicates a pit stop on the *next* lap with a 1, or no pit stop on the next lap with a 0."
   ]
  },
  {
   "cell_type": "code",
   "execution_count": 30,
   "id": "c48594cd-fa8a-49d5-9068-14c688690305",
   "metadata": {},
   "outputs": [],
   "source": [
    "# Left join pit_stops to df\n",
    "pit_stops = pit_stops.set_index(['raceId','driverId','lap'])\n",
    "df = df.join(pit_stops, on=['raceId','driverId','lap'], rsuffix='Pitstop', how='left')\n",
    "\n",
    "# Create boolean for pit stop next lap\n",
    "pit_stops = pit_stops.reset_index()\n",
    "pit_next_lap = pit_stops.loc[:, ['lap']] - 1 # Subtract 1 to add the bool on the lap before a pit stop \n",
    "pit_next_lap['raceId'] = pit_stops['raceId']\n",
    "pit_next_lap['driverId'] = pit_stops['driverId']\n",
    "pit_next_lap['pitNext'] = 1\n",
    "\n",
    "# Left join pit_next_lap to df\n",
    "pit_next_lap = pit_next_lap.set_index(['raceId','driverId','lap'])\n",
    "df = df.join(pit_next_lap, on=['raceId','driverId','lap'], how='left')\n",
    "df['pitNext'] = df['pitNext'].fillna(0)"
   ]
  },
  {
   "cell_type": "markdown",
   "id": "7ebe14d8-17f1-4a1e-bea8-ff68f2015af4",
   "metadata": {},
   "source": [
    "### Data processing\n",
    "\n",
    "In this section I add additional columns with information processed from the data that will provide valuable additional insight to the model.\n",
    "I will add columns for:\n",
    "- Laps since last pit stop\n",
    "- Race progress value between 0 and 1\n",
    "- Time split from the previous lap\n",
    "- Time gap to the car ahead\n",
    "- Is DRS available\n",
    "- Time gap to the car behind\n",
    "- Did the car ahead pit stop\n",
    "- Did the car behind pit stop"
   ]
  },
  {
   "cell_type": "markdown",
   "id": "8a77757a-3758-4c6d-8399-80d607cf9e11",
   "metadata": {},
   "source": [
    "I will use list comprehension to generate lists that will be added to the main dataframe as columns. This is a very fast and efficient way to iterate through the dataframe and add new columns based on the data.\n",
    "\n",
    "First, I will create a column that tracks the number of laps since the last pit stop occurred. This count will be 0 at the start of the race and 0 for any pit stop laps, then it will increment for each subsequent lap."
   ]
  },
  {
   "cell_type": "code",
   "execution_count": 33,
   "id": "1ae2adee-9eef-494f-a0fa-cf1fd39b59c9",
   "metadata": {},
   "outputs": [],
   "source": [
    "# Calculate laps since last pit stop\n",
    "count = 0\n",
    "def last_pit(lap, pitstop):\n",
    "    global count\n",
    "    \n",
    "    if (lap == 1) or (not np.isnan(pitstop)):\n",
    "        count = 0\n",
    "        return count\n",
    "    \n",
    "    count += 1\n",
    "    return count\n",
    "    \n",
    "df['lapsSincePit'] = [\n",
    "    last_pit(row[0], row[1])\n",
    "    for row in zip(df['lap'], df['stop'])\n",
    "]"
   ]
  },
  {
   "cell_type": "markdown",
   "id": "137e6bd1-3384-4b05-acb3-0cabacbe8934",
   "metadata": {},
   "source": [
    "Next, I will calculate the race progress, which will simply be the current lap divided by the total laps in the race. Since each race may have a different total number of laps, I will iterate through the dataframe backwards to determine the length of each race by identifying the last lap first."
   ]
  },
  {
   "cell_type": "code",
   "execution_count": 35,
   "id": "a911e923-1257-4f2a-8f20-bace97c95b43",
   "metadata": {},
   "outputs": [],
   "source": [
    "# Create race progress column\n",
    "# Reverse df for easy iteration backwards\n",
    "reverse_df = df.iloc[::-1].reset_index().iloc[:,1::]\n",
    "\n",
    "race_length = 0\n",
    "def progress(lap):\n",
    "    global race_length\n",
    "    \n",
    "    if lap > race_length:\n",
    "        race_length = lap\n",
    "        \n",
    "    prog = lap / race_length\n",
    "    \n",
    "    if lap == 1:\n",
    "        race_length = 0\n",
    "    \n",
    "    return prog\n",
    "\n",
    "reverse_df['raceProgress'] = [\n",
    "    progress(row[0])\n",
    "    for row in zip(reverse_df['lap'])\n",
    "]\n",
    "\n",
    "# Unreverse df\n",
    "df = reverse_df.iloc[::-1].reset_index().iloc[:,1::]"
   ]
  },
  {
   "cell_type": "markdown",
   "id": "12bd452f-e03e-40db-a64d-996712117d97",
   "metadata": {},
   "source": [
    "Next, I will calculate the split between laps. For lap 1, this value will be set to zero. For all other laps, it will be the difference between the current lap time and the previous lap time."
   ]
  },
  {
   "cell_type": "code",
   "execution_count": 37,
   "id": "20f27a1b-ad4f-4cbc-9b83-c908ef96a0ab",
   "metadata": {},
   "outputs": [],
   "source": [
    "# Time split from previous lap \n",
    "prev = 0\n",
    "def split_calculate(lap, laptime):\n",
    "    global prev\n",
    "    \n",
    "    if lap == 1:\n",
    "        prev = laptime\n",
    "        return 0\n",
    "        \n",
    "    split = laptime - prev\n",
    "    prev = laptime\n",
    "    \n",
    "    return split\n",
    "    \n",
    "df['split'] = [\n",
    "    split_calculate(row[0], row[1])\n",
    "    for row in zip(df['lap'], df['milliseconds'])\n",
    "]"
   ]
  },
  {
   "cell_type": "markdown",
   "id": "bed078f2-d1c8-4eb4-9b1a-3ca33abdbb24",
   "metadata": {},
   "source": [
    "Next, I will maintain a cumulative total of each driver’s race time by summing their lap times. This will enable me to calculate the gap between any two drivers at the end of each lap, which is a crucial metric in Formula 1. Having this information will indicate how closely two cars are racing on the track at the end of each lap."
   ]
  },
  {
   "cell_type": "code",
   "execution_count": 39,
   "id": "be3f8c55-4197-42ea-8595-fa887ea726dd",
   "metadata": {},
   "outputs": [],
   "source": [
    "# Create column with total time since race start in df\n",
    "prev = 0;\n",
    "def total_calc(lap, laptime):\n",
    "    global prev\n",
    "    \n",
    "    if lap == 1:\n",
    "        prev = laptime\n",
    "        return laptime\n",
    "    \n",
    "    prev += laptime\n",
    "    \n",
    "    return prev\n",
    "\n",
    "df['totalTime'] = [\n",
    "    total_calc(row[0], row[1])\n",
    "    for row in zip(df['lap'], df['milliseconds'])\n",
    "]"
   ]
  },
  {
   "cell_type": "markdown",
   "id": "bdb97b56-6a44-45a3-8a3a-62bf63806bda",
   "metadata": {},
   "source": [
    "I also need to perform the same calculation for every driver, including those I have eliminated from my dataset. This information will be necessary to calculate the time gaps between any two cars."
   ]
  },
  {
   "cell_type": "code",
   "execution_count": 41,
   "id": "b54de854-189c-4ad6-a483-ffca2084c0a7",
   "metadata": {},
   "outputs": [],
   "source": [
    "# Create column with total time since race start in lap_times \n",
    "# This is needed to calculate time gaps for any car\n",
    "lap_times['totalTime'] = [\n",
    "    total_calc(row[0], row[1])\n",
    "    for row in zip(lap_times['lap'], lap_times['milliseconds'])\n",
    "]"
   ]
  },
  {
   "cell_type": "markdown",
   "id": "6051a8fb-2b3f-469a-8281-a1f2276fe3d0",
   "metadata": {},
   "source": [
    "Next, I calculate the time gaps to the car currently ahead of each driver in my dataset. This involves searching the dataframe containing all lap times for the driver in the same race, on the same lap, but one position ahead (one lower in value), and then taking the difference between their total times.\n",
    "\n",
    "Drivers in first place will be given a gap of 40 seconds so that the model will learn that they do not have any cars in front of them to worry about."
   ]
  },
  {
   "cell_type": "code",
   "execution_count": 43,
   "id": "b9fe4bc7-aa82-4bad-aedc-267c8b17f5bf",
   "metadata": {},
   "outputs": [
    {
     "name": "stdout",
     "output_type": "stream",
     "text": [
      "Calculating gapAhead...\n",
      "Done\n"
     ]
    }
   ],
   "source": [
    "# Create a column with the time gap to the car ahead\n",
    "max_gap = 40000 # This is used in place of \n",
    "def gap_ahead(position, raceId, lap, totalTime):\n",
    "    if position > 1:\n",
    "        car_ahead = position - 1\n",
    "        \n",
    "        car_ahead_time = lap_times.loc[\n",
    "            (lap_times['raceId'] == raceId) & \n",
    "            (lap_times['lap'] == lap) & \n",
    "            (lap_times['position'] == car_ahead), \n",
    "            'totalTime'\n",
    "        ].iloc[0]\n",
    "        \n",
    "        gap = totalTime - car_ahead_time\n",
    "        return gap\n",
    "    return max_gap\n",
    "\n",
    "print('Calculating gapAhead...')\n",
    "df['gapAhead'] = [\n",
    "    gap_ahead(row[0], row[1], row[2], row[3])\n",
    "    for row in zip(df['position'], df['raceId'], df['lap'], df['totalTime'])\n",
    "]\n",
    "print('Done')"
   ]
  },
  {
   "cell_type": "markdown",
   "id": "3ce320fa-fbbc-4ce3-aa03-1214d8259410",
   "metadata": {},
   "source": [
    "There is some bad data in here so I will have to perform more filtering. I will remove strategies with a gap ahead greater than 40 seconds (indicating poor or unusual performance) or negative gaps which should not be possible. "
   ]
  },
  {
   "cell_type": "code",
   "execution_count": 45,
   "id": "047736c0-9655-4f77-bfe6-2e29ca08538f",
   "metadata": {},
   "outputs": [],
   "source": [
    "# Mark strategies with a large or negative gap, indicating bad data\n",
    "strategies = strategies.set_index(['raceId', 'driverId'])\n",
    "\n",
    "for row in zip(df['gapAhead'], df['raceId'], df['driverId']):\n",
    "    if not np.isnan(row[0]):\n",
    "        if row[0] > max_gap or row[0] < 0:\n",
    "            strategies.at[(row[1], row[2]), 'bad'] = 1\n",
    "         \n",
    "update_df()"
   ]
  },
  {
   "cell_type": "code",
   "execution_count": 46,
   "id": "05bd9ae5-1587-4741-b603-ca3e7e7cc753",
   "metadata": {
    "jupyter": {
     "source_hidden": true
    }
   },
   "outputs": [
    {
     "data": {
      "image/png": "[encoded data removed]",
      "text/plain": [
       "<Figure size 1200x400 with 1 Axes>"
      ]
     },
     "metadata": {},
     "output_type": "display_data"
    }
   ],
   "source": [
    "plt.figure(figsize=(12,4))\n",
    "plt.hist(df['gapAhead'].values, bins=40)\n",
    "plt.xlabel('Gap (ms)')\n",
    "plt.ylabel('Count')\n",
    "plt.title('Gap Ahead Histogram')\n",
    "plt.show()"
   ]
  },
  {
   "cell_type": "markdown",
   "id": "72f036f4-11eb-4063-81d9-032d7ef4b23a",
   "metadata": {},
   "source": [
    "Looking at this historgram, we see that most drivers are able to stay within a gap of 5 seconds to the car ahead for the majority of laps. A peak at 40 seconds was artificially created for any cars in first place which do not have a gap ahead."
   ]
  },
  {
   "cell_type": "markdown",
   "id": "07605792-fab2-4e3c-a3fa-150aee188100",
   "metadata": {},
   "source": [
    "Under the current rules, a driver can only use the Drag Reduction System (DRS) if they are within one second of the car ahead when passing specific points on the track. Whether or not a driver has access to DRS is an important factor to consider when deciding whether to make a pit stop."
   ]
  },
  {
   "cell_type": "code",
   "execution_count": 49,
   "id": "482c6254-3e70-440c-ab21-ce897844bf60",
   "metadata": {},
   "outputs": [],
   "source": [
    "# DRS available boolean?\n",
    "\n",
    "df['DRS'] = [\n",
    "    (1 if row[0] < 1000 else 0)\n",
    "    for row in zip(df['gapAhead'])    \n",
    "]"
   ]
  },
  {
   "cell_type": "markdown",
   "id": "0de12f2e-fd4a-41ae-b86e-17e6082aa284",
   "metadata": {},
   "source": [
    "Exactly like with the gap ahead, next I calculate the gap to the car behind."
   ]
  },
  {
   "cell_type": "code",
   "execution_count": 51,
   "id": "5d5b144b-b813-4f37-961c-9ed6e0221fbf",
   "metadata": {},
   "outputs": [
    {
     "name": "stdout",
     "output_type": "stream",
     "text": [
      "Calculating gapBehind...\n",
      "Done\n"
     ]
    }
   ],
   "source": [
    "# Calculate gap to the car behind \n",
    "max_bgap = 90000\n",
    "def gap_behind(position, raceId, lap, totalTime):\n",
    "    try:\n",
    "        car_behind = position + 1\n",
    "        \n",
    "        car_behind_time = lap_times.loc[\n",
    "            (lap_times['raceId'] == raceId) & \n",
    "            (lap_times['lap'] == lap) & \n",
    "            (lap_times['position'] == car_behind), \n",
    "            'totalTime'\n",
    "        ].iloc[0]\n",
    "        \n",
    "        gap = car_behind_time - totalTime\n",
    "        return gap\n",
    "    except:    \n",
    "        return max_bgap\n",
    "\n",
    "print('Calculating gapBehind...')\n",
    "df['gapBehind'] = [\n",
    "    gap_behind(row[0], row[1], row[2], row[3])\n",
    "    for row in zip(df['position'], df['raceId'], df['lap'], df['totalTime'])\n",
    "]\n",
    "print('Done')"
   ]
  },
  {
   "cell_type": "code",
   "execution_count": 52,
   "id": "91dce7f5-787e-473e-959e-0e57309022a0",
   "metadata": {},
   "outputs": [],
   "source": [
    "# Mark strategies with a negative gap, indicating bad data\n",
    "strategies = strategies.set_index(['raceId', 'driverId'])\n",
    "\n",
    "for row in zip(df['gapBehind'], df['raceId'], df['driverId']):\n",
    "    if not np.isnan(row[0]):\n",
    "        if row[0] > max_bgap or row[0] < 0:\n",
    "            strategies.at[(row[1], row[2]), 'bad'] = 1\n",
    "            \n",
    "update_df()"
   ]
  },
  {
   "cell_type": "code",
   "execution_count": 53,
   "id": "fd0ac829-358c-429c-affc-63d2483abf1b",
   "metadata": {
    "jupyter": {
     "source_hidden": true
    }
   },
   "outputs": [
    {
     "data": {
      "image/png": "[encoded data removed]",
      "text/plain": [
       "<Figure size 1200x400 with 1 Axes>"
      ]
     },
     "metadata": {},
     "output_type": "display_data"
    }
   ],
   "source": [
    "plt.figure(figsize=(12,4))\n",
    "plt.hist(df['gapBehind'].values, bins=40)\n",
    "plt.xlabel('Gap (ms)')\n",
    "plt.ylabel('Count')\n",
    "plt.title('Gap Behind Histogram')\n",
    "plt.show()"
   ]
  },
  {
   "cell_type": "markdown",
   "id": "54486ee0-05db-4a98-b9f8-d1452b1017e7",
   "metadata": {},
   "source": [
    "This histogram displays results similar to those of the gap ahead histogram. Most cars are able to remain close to each other for the majority of the laps. In this case, I allow for larger gaps because a significant gap behind typically indicates a successful performance from a driver."
   ]
  },
  {
   "cell_type": "markdown",
   "id": "40d11056-466b-4777-8a65-f6d65b4b0551",
   "metadata": {},
   "source": [
    "Finally, I will create two additional columns that provide valuable information to the model. These columns will contain boolean values indicating whether the car ahead makes a pit stop (column 1) or whether the car behind makes a pit stop (column 2). This information is crucial due to common pit stop strategies, such as overcutting and undercutting.\n",
    "\n",
    "- Undercutting is the strategy of making a pit stop earlier than the car ahead, with the aim of achieving quicker lap times on fresh tires. The goal is for the driver who executed the undercut to pass the car ahead while it is in the pits.\n",
    "- Overcutting, on the other hand, involves making a pit stop later than the car ahead, allowing the driver to capitalize on the performance of worn tires for as long as possible. The intention is to exit the pits with fresher tires, making it easier to overtake the car ahead.\n",
    "\n",
    "I want to provide the neural network with the information necessary to execute these strategies effectively or defend against them."
   ]
  },
  {
   "cell_type": "code",
   "execution_count": 56,
   "id": "16d53f18-32f2-4e00-a9a4-34d073da5810",
   "metadata": {},
   "outputs": [
    {
     "name": "stdout",
     "output_type": "stream",
     "text": [
      "Calculating pitAhead...\n",
      "Done\n"
     ]
    }
   ],
   "source": [
    "# Did the car ahead pit boolean?\n",
    "def pit_ahead(position, raceId, lap):\n",
    "    if position > 1:\n",
    "        car_ahead = position - 1\n",
    "        \n",
    "        car_ahead_stop = lap_times.loc[\n",
    "            (lap_times['raceId'] == raceId) & \n",
    "            (lap_times['lap'] == lap) & \n",
    "            (lap_times['position'] == car_ahead), \n",
    "            'stop'\n",
    "        ].iloc[0]\n",
    "        \n",
    "        if not np.isnan(car_ahead_stop):\n",
    "            return 1\n",
    "        return 0\n",
    "    \n",
    "    return 0\n",
    "\n",
    "print('Calculating pitAhead...')\n",
    "df['pitAhead'] = [\n",
    "    pit_ahead(row[0], row[1], row[2])\n",
    "    for row in zip(df['position'], df['raceId'], df['lap'])\n",
    "]\n",
    "print('Done')"
   ]
  },
  {
   "cell_type": "code",
   "execution_count": 57,
   "id": "740c61d8-3f93-461c-8359-4f278207ba8d",
   "metadata": {},
   "outputs": [
    {
     "name": "stdout",
     "output_type": "stream",
     "text": [
      "Calculating pitBehind...\n",
      "Done\n"
     ]
    }
   ],
   "source": [
    "# Did the car behind pit bool?\n",
    "def pit_behind(position, raceId, lap):\n",
    "    try:\n",
    "        car_behind = position + 1\n",
    "        \n",
    "        car_behind_stop = lap_times.loc[\n",
    "            (lap_times['raceId'] == raceId) & \n",
    "            (lap_times['lap'] == lap) & \n",
    "            (lap_times['position'] == car_behind), \n",
    "            'stop'\n",
    "        ].iloc[0]\n",
    "        \n",
    "        if not np.isnan(car_behind_stop):\n",
    "            return 1\n",
    "        return 0\n",
    "    except:\n",
    "        return 0\n",
    "\n",
    "print('Calculating pitBehind...')\n",
    "df['pitBehind'] = [\n",
    "    pit_behind(row[0], row[1], row[2])\n",
    "    for row in zip(df['position'], df['raceId'], df['lap'])\n",
    "]\n",
    "print('Done')"
   ]
  },
  {
   "cell_type": "markdown",
   "id": "80d53129-37d0-4205-8eb7-5d306fe30b55",
   "metadata": {},
   "source": [
    "### Pit Stop Laps Analysis\n",
    "\n",
    "Here I want to take a look at the laps that occur before pit stops. These are the laps that the model will have to identify."
   ]
  },
  {
   "cell_type": "code",
   "execution_count": 59,
   "id": "6db539e0-f360-405d-97c9-b3a6cced6d26",
   "metadata": {},
   "outputs": [],
   "source": [
    "import pandas as pd\n",
    "import numpy as np\n",
    "import matplotlib.pyplot as plt\n",
    "\n",
    "df = pd.read_csv('processed_data.csv')\n",
    "\n",
    "pit_stop_decision_laps = df[df['pitNext'] == 1]"
   ]
  },
  {
   "cell_type": "code",
   "execution_count": 60,
   "id": "56422ab2-ab84-4b25-a82e-c510269f6cd2",
   "metadata": {
    "jupyter": {
     "source_hidden": true
    }
   },
   "outputs": [
    {
     "data": {
      "image/png": "[encoded data removed]",
      "text/plain": [
       "<Figure size 1200x400 with 1 Axes>"
      ]
     },
     "metadata": {},
     "output_type": "display_data"
    }
   ],
   "source": [
    "plt.figure(figsize=(12,4))\n",
    "lapBins = pit_stop_decision_laps['lapsSincePit'].values.max()\n",
    "plt.hist(pit_stop_decision_laps['lapsSincePit'].values, bins=range(lapBins))\n",
    "plt.xlabel('Lap')\n",
    "plt.ylabel('Count')\n",
    "plt.title('Laps Between Pitstops')\n",
    "plt.savefig('Laps Between Pitstops.png') \n",
    "plt.show()"
   ]
  },
  {
   "cell_type": "markdown",
   "id": "8ba33f6d-25e5-422c-94cb-880b2ea03712",
   "metadata": {},
   "source": [
    "This histogram displays the number of laps a driver completes before making a pit stop. While this depends on many factors, we can still observe a fairly normal distribution that is only slightly skewed to the right.\n",
    "\n",
    "However, there is a problematic peak at 0 laps which indicates the presence of some erroneous data. I will remove these strategies from the dataframe to ensure data quality."
   ]
  },
  {
   "cell_type": "code",
   "execution_count": 62,
   "id": "6122e578-bb53-4601-b1a4-c8e3c47fdfd7",
   "metadata": {},
   "outputs": [],
   "source": [
    "bad_laps = pit_stop_decision_laps[pit_stop_decision_laps['lapsSincePit'] < 5]\n",
    "\n",
    "strategies = strategies.set_index(['raceId', 'driverId'])\n",
    "for row in zip(bad_laps['raceId'], bad_laps['driverId']):\n",
    "    strategies.at[(row[0], row[1]), 'bad'] = 1\n",
    "            \n",
    "update_df()\n",
    "pit_stop_decision_laps = df[df['pitNext'] == 1]"
   ]
  },
  {
   "cell_type": "code",
   "execution_count": 63,
   "id": "d9d24bcb-b42c-4c2c-93e9-3835b61e3569",
   "metadata": {
    "jupyter": {
     "source_hidden": true
    }
   },
   "outputs": [
    {
     "data": {
      "image/png": "[encoded data removed]",
      "text/plain": [
       "<Figure size 1200x400 with 1 Axes>"
      ]
     },
     "metadata": {},
     "output_type": "display_data"
    }
   ],
   "source": [
    "plt.figure(figsize=(12,4))\n",
    "plt.hist(pit_stop_decision_laps['raceProgress'].values, bins=50)\n",
    "plt.xlabel('Race Progress')\n",
    "plt.ylabel('Pit Stop Count')\n",
    "plt.title('Pit Stop Timing')\n",
    "plt.savefig('Pit Stop Timing.png') \n",
    "plt.show()"
   ]
  },
  {
   "cell_type": "markdown",
   "id": "fc3ba789-e663-4d1e-a619-064178b2fec2",
   "metadata": {},
   "source": [
    "This histogram illustrates the points in time during a race when pit stops are made. We observe a pronounced peak around 0.2, but the rest of the data is fairly evenly distributed. This suggests that there isn’t a single dominant pit stop strategy that drivers consistently follow across all races. In other words, selecting a universal strategy for all races is not feasible."
   ]
  },
  {
   "cell_type": "markdown",
   "id": "87a828e6-ae78-44d9-82b1-dd3a27c07a16",
   "metadata": {},
   "source": [
    "Now that I am done with the data, I will save a copy of the dataframe."
   ]
  },
  {
   "cell_type": "code",
   "execution_count": 66,
   "id": "1f21fd04-1a44-45f6-b1d1-90e1e4fb4a4f",
   "metadata": {},
   "outputs": [],
   "source": [
    "df.to_csv('processed_data.csv', index=False)"
   ]
  },
  {
   "cell_type": "markdown",
   "id": "45c6510d-35f7-4e78-9a23-a2c956298264",
   "metadata": {},
   "source": [
    "## LSTM Hybrid Network\n",
    "In this section, I will create and train a neural network using the processed data. The architecture I have chosen is a hybrid model that combines a Long Short-Term Memory (LSTM) recurrent neural network with a traditional Feed Forward Neural Network (FFNN). This approach leverages the strengths of the LSTM in modeling time series data and maintaining memory over extended periods, while also utilizing the FFNN's ability to replicate complex patterns without the potential complications associated with recurrent networks."
   ]
  },
  {
   "cell_type": "markdown",
   "id": "aad892ec-27e6-44ff-ade6-319972128636",
   "metadata": {},
   "source": [
    "### Preparing the data for training\n",
    "First I will load the processed data and seperate it into training and testing sets. Three recent 2024 races are chosen as the test data to evaulate the model's performance on modern races."
   ]
  },
  {
   "cell_type": "code",
   "execution_count": 252,
   "id": "97308558-23c3-49a6-879b-9a3dc5f82417",
   "metadata": {},
   "outputs": [],
   "source": [
    "import torch\n",
    "import torch.nn as nn\n",
    "import torch.optim as optim\n",
    "import numpy as np\n",
    "import pandas as pd\n",
    "import matplotlib.pyplot as plt\n",
    "from sklearn.metrics import f1_score, precision_score, recall_score\n",
    "from matplotlib.ticker import MaxNLocator"
   ]
  },
  {
   "cell_type": "code",
   "execution_count": 333,
   "id": "c8565971-4a24-4e9e-b264-825c82a6c056",
   "metadata": {},
   "outputs": [
    {
     "data": {
      "text/html": [
       "<div>\n",
       "<style scoped>\n",
       "    .dataframe tbody tr th:only-of-type {\n",
       "        vertical-align: middle;\n",
       "    }\n",
       "\n",
       "    .dataframe tbody tr th {\n",
       "        vertical-align: top;\n",
       "    }\n",
       "\n",
       "    .dataframe thead th {\n",
       "        text-align: right;\n",
       "    }\n",
       "</style>\n",
       "<table border=\"1\" class=\"dataframe\">\n",
       "  <thead>\n",
       "    <tr style=\"text-align: right;\">\n",
       "      <th></th>\n",
       "      <th>lap</th>\n",
       "      <th>position</th>\n",
       "      <th>milliseconds</th>\n",
       "      <th>lapsSincePit</th>\n",
       "      <th>raceProgress</th>\n",
       "      <th>split</th>\n",
       "      <th>gapAhead</th>\n",
       "      <th>DRS</th>\n",
       "      <th>gapBehind</th>\n",
       "      <th>pitAhead</th>\n",
       "      <th>pitBehind</th>\n",
       "    </tr>\n",
       "  </thead>\n",
       "  <tbody>\n",
       "    <tr>\n",
       "      <th>29019</th>\n",
       "      <td>1</td>\n",
       "      <td>11</td>\n",
       "      <td>94503</td>\n",
       "      <td>0</td>\n",
       "      <td>0.017241</td>\n",
       "      <td>0</td>\n",
       "      <td>815</td>\n",
       "      <td>1</td>\n",
       "      <td>260</td>\n",
       "      <td>0</td>\n",
       "      <td>0</td>\n",
       "    </tr>\n",
       "    <tr>\n",
       "      <th>29020</th>\n",
       "      <td>2</td>\n",
       "      <td>11</td>\n",
       "      <td>84284</td>\n",
       "      <td>1</td>\n",
       "      <td>0.034483</td>\n",
       "      <td>-10219</td>\n",
       "      <td>1044</td>\n",
       "      <td>0</td>\n",
       "      <td>320</td>\n",
       "      <td>0</td>\n",
       "      <td>0</td>\n",
       "    </tr>\n",
       "    <tr>\n",
       "      <th>29021</th>\n",
       "      <td>3</td>\n",
       "      <td>11</td>\n",
       "      <td>82978</td>\n",
       "      <td>2</td>\n",
       "      <td>0.051724</td>\n",
       "      <td>-1306</td>\n",
       "      <td>952</td>\n",
       "      <td>1</td>\n",
       "      <td>614</td>\n",
       "      <td>0</td>\n",
       "      <td>0</td>\n",
       "    </tr>\n",
       "    <tr>\n",
       "      <th>29022</th>\n",
       "      <td>4</td>\n",
       "      <td>10</td>\n",
       "      <td>83742</td>\n",
       "      <td>3</td>\n",
       "      <td>0.068966</td>\n",
       "      <td>764</td>\n",
       "      <td>1258</td>\n",
       "      <td>0</td>\n",
       "      <td>577</td>\n",
       "      <td>0</td>\n",
       "      <td>0</td>\n",
       "    </tr>\n",
       "    <tr>\n",
       "      <th>29023</th>\n",
       "      <td>5</td>\n",
       "      <td>10</td>\n",
       "      <td>83294</td>\n",
       "      <td>4</td>\n",
       "      <td>0.086207</td>\n",
       "      <td>-448</td>\n",
       "      <td>996</td>\n",
       "      <td>1</td>\n",
       "      <td>843</td>\n",
       "      <td>0</td>\n",
       "      <td>0</td>\n",
       "    </tr>\n",
       "    <tr>\n",
       "      <th>...</th>\n",
       "      <td>...</td>\n",
       "      <td>...</td>\n",
       "      <td>...</td>\n",
       "      <td>...</td>\n",
       "      <td>...</td>\n",
       "      <td>...</td>\n",
       "      <td>...</td>\n",
       "      <td>...</td>\n",
       "      <td>...</td>\n",
       "      <td>...</td>\n",
       "      <td>...</td>\n",
       "    </tr>\n",
       "    <tr>\n",
       "      <th>31345</th>\n",
       "      <td>67</td>\n",
       "      <td>2</td>\n",
       "      <td>69532</td>\n",
       "      <td>16</td>\n",
       "      <td>0.943662</td>\n",
       "      <td>-17500</td>\n",
       "      <td>3061</td>\n",
       "      <td>0</td>\n",
       "      <td>1253</td>\n",
       "      <td>0</td>\n",
       "      <td>0</td>\n",
       "    </tr>\n",
       "    <tr>\n",
       "      <th>31346</th>\n",
       "      <td>68</td>\n",
       "      <td>2</td>\n",
       "      <td>69241</td>\n",
       "      <td>17</td>\n",
       "      <td>0.957746</td>\n",
       "      <td>-291</td>\n",
       "      <td>2657</td>\n",
       "      <td>0</td>\n",
       "      <td>2393</td>\n",
       "      <td>0</td>\n",
       "      <td>0</td>\n",
       "    </tr>\n",
       "    <tr>\n",
       "      <th>31347</th>\n",
       "      <td>69</td>\n",
       "      <td>2</td>\n",
       "      <td>69159</td>\n",
       "      <td>18</td>\n",
       "      <td>0.971831</td>\n",
       "      <td>-82</td>\n",
       "      <td>2069</td>\n",
       "      <td>0</td>\n",
       "      <td>2976</td>\n",
       "      <td>0</td>\n",
       "      <td>0</td>\n",
       "    </tr>\n",
       "    <tr>\n",
       "      <th>31348</th>\n",
       "      <td>70</td>\n",
       "      <td>2</td>\n",
       "      <td>69989</td>\n",
       "      <td>19</td>\n",
       "      <td>0.985915</td>\n",
       "      <td>830</td>\n",
       "      <td>2431</td>\n",
       "      <td>0</td>\n",
       "      <td>2688</td>\n",
       "      <td>0</td>\n",
       "      <td>0</td>\n",
       "    </tr>\n",
       "    <tr>\n",
       "      <th>31349</th>\n",
       "      <td>71</td>\n",
       "      <td>2</td>\n",
       "      <td>69668</td>\n",
       "      <td>20</td>\n",
       "      <td>1.000000</td>\n",
       "      <td>-321</td>\n",
       "      <td>1906</td>\n",
       "      <td>0</td>\n",
       "      <td>2627</td>\n",
       "      <td>0</td>\n",
       "      <td>0</td>\n",
       "    </tr>\n",
       "  </tbody>\n",
       "</table>\n",
       "<p>1623 rows × 11 columns</p>\n",
       "</div>"
      ],
      "text/plain": [
       "       lap  position  milliseconds  lapsSincePit  raceProgress  split  \\\n",
       "29019    1        11         94503             0      0.017241      0   \n",
       "29020    2        11         84284             1      0.034483 -10219   \n",
       "29021    3        11         82978             2      0.051724  -1306   \n",
       "29022    4        10         83742             3      0.068966    764   \n",
       "29023    5        10         83294             4      0.086207   -448   \n",
       "...    ...       ...           ...           ...           ...    ...   \n",
       "31345   67         2         69532            16      0.943662 -17500   \n",
       "31346   68         2         69241            17      0.957746   -291   \n",
       "31347   69         2         69159            18      0.971831    -82   \n",
       "31348   70         2         69989            19      0.985915    830   \n",
       "31349   71         2         69668            20      1.000000   -321   \n",
       "\n",
       "       gapAhead  DRS  gapBehind  pitAhead  pitBehind  \n",
       "29019       815    1        260         0          0  \n",
       "29020      1044    0        320         0          0  \n",
       "29021       952    1        614         0          0  \n",
       "29022      1258    0        577         0          0  \n",
       "29023       996    1        843         0          0  \n",
       "...         ...  ...        ...       ...        ...  \n",
       "31345      3061    0       1253         0          0  \n",
       "31346      2657    0       2393         0          0  \n",
       "31347      2069    0       2976         0          0  \n",
       "31348      2431    0       2688         0          0  \n",
       "31349      1906    0       2627         0          0  \n",
       "\n",
       "[1623 rows x 11 columns]"
      ]
     },
     "execution_count": 333,
     "metadata": {},
     "output_type": "execute_result"
    }
   ],
   "source": [
    "df = pd.read_csv('processed_data.csv')\n",
    "\n",
    "# Seperate data from 3/102 races for testing\n",
    "df_test = df[df['raceId'].isin([1131, 1130, 1123])]\n",
    "df_train = df[~df['raceId'].isin([1131, 1130, 1123])]\n",
    "\n",
    "# Take the necessary columns and separate the inputs/output.\n",
    "X_test = df_test.iloc[:, 2:5].join(df.iloc[:, 9:12]).join(df.iloc[:, 13::])\n",
    "y_test = df_test.iloc[:, 8]\n",
    "X_train = df_train.iloc[:, 2:5].join(df.iloc[:, 9:12]).join(df.iloc[:, 13::])\n",
    "y_train = df_train.iloc[:, 8]\n",
    "\n",
    "# Examine the test set \n",
    "X_test"
   ]
  },
  {
   "cell_type": "markdown",
   "id": "dd7e03e8-d081-4360-81bc-64c509f6f2e4",
   "metadata": {},
   "source": [
    "Above, you can see the columns of data that I will provide to the network. In total, there are 11 columns that become the inputs I will use to train the network."
   ]
  },
  {
   "cell_type": "markdown",
   "id": "756e2f90-7362-43bc-ad98-c4c08df3ebe3",
   "metadata": {},
   "source": [
    "I will convert the sets to tensors for use with PyTorch and I will save a copy that will be used by my algorithms to decode and sort the data later."
   ]
  },
  {
   "cell_type": "code",
   "execution_count": 337,
   "id": "9ef94496-838b-4ee1-8284-e29e1308f407",
   "metadata": {},
   "outputs": [],
   "source": [
    "# Convert the sets to tensors for use with pytorch\n",
    "X_train = torch.tensor(X_train.values).float()\n",
    "X_test = torch.tensor(X_test.values).float()\n",
    "y_train = torch.tensor(y_train.values).float().unsqueeze(1)\n",
    "y_test = torch.tensor(y_test.values).float().unsqueeze(1)\n",
    "\n",
    "# Save a copy to be used by algorithms that segment and batch the data\n",
    "X_test_original = X_test \n",
    "X_train_original = X_train"
   ]
  },
  {
   "cell_type": "markdown",
   "id": "4b175c42-9838-4382-a69b-8ad9fe639ccc",
   "metadata": {},
   "source": [
    "When training and using a neural network, it’s important to scale all input data so that the values are similar, typically between -1 and 1. For my data, I have chosen to use a min-max scaling approach, as it works well for most of the columns. Data such as lap, position, lapsSincePit, raceProgress, and the boolean values for DRS, pitAhead, and pitBehind will scale effectively with this method. The result will be the same data, but normalized to fit between 0 and 1."
   ]
  },
  {
   "cell_type": "code",
   "execution_count": 340,
   "id": "e70529e3-98eb-40b9-bdf1-6b759e9f881e",
   "metadata": {},
   "outputs": [],
   "source": [
    "# Minmax the data\n",
    "min_val = X_train.min(axis=0)[0]  # Column-wise min\n",
    "max_val = X_train.max(axis=0)[0]  # Column-wise max\n",
    "X_train = (X_train - min_val) / (max_val - min_val)  # Scale training data to [0, 1]\n",
    "X_test = (X_test - min_val) / (max_val - min_val)    # Scale test data using training min and max\n"
   ]
  },
  {
   "cell_type": "markdown",
   "id": "926f1d80-7d0a-47ce-b681-b4e8cd504a32",
   "metadata": {},
   "source": [
    "### Segmenting and Batching\n",
    "Since I will be using LSTM layers in my network, I need to create overlapping windows of data to feed into the model. After testing various sizes, I have chosen a window size of 3 laps.\n",
    "\n",
    "Rather than creating placeholder data for laps -1 and -2 at the start of the race to enable the model to make predictions for lap 1, I have chosen to begin the model’s predictions at lap 3. I can safely assume that under normal circumstances, no pit stops will be made this early in a race."
   ]
  },
  {
   "cell_type": "code",
   "execution_count": 343,
   "id": "70ec819d-2d66-4497-b295-43b75cf1398d",
   "metadata": {},
   "outputs": [
    {
     "name": "stdout",
     "output_type": "stream",
     "text": [
      "tensor([0.0000, 0.5000, 0.4308, 0.0000, 0.0045, 0.5221, 0.0204, 1.0000, 0.0029,\n",
      "        0.0000, 0.0000])\n"
     ]
    }
   ],
   "source": [
    "def LSTM_data_segments(X_orig, X, y, WS):\n",
    "    X_segments = []\n",
    "    y_values = []\n",
    "    i = 0\n",
    "    while (i < len(X)):\n",
    "        if X_orig[i][0] == 1: # If lap = 1, jump to lap window size\n",
    "            i += WS - 1\n",
    "            continue\n",
    "        X_segments.append(X[i-WS+1:i+1]) # Append the window\n",
    "        y_values.append(y[i]) # Append the pit stop decision\n",
    "        i += 1\n",
    "\n",
    "    # convert to tensors\n",
    "    X_segments = torch.stack(X_segments)  # Stack X_segments list into a single tensor\n",
    "    y_values = torch.stack(y_values)\n",
    "    return X_segments, y_values\n",
    "\n",
    "WS = 3 # Window size (number of laps to evaluate at a time)\n",
    "\n",
    "X_test, y_test = LSTM_data_segments(X_test_original, X_test, y_test, WS)\n",
    "X_train, y_train = LSTM_data_segments(X_train_original, X_train, y_train, WS)\n",
    "\n",
    "print(X_test[0][0])"
   ]
  },
  {
   "cell_type": "markdown",
   "id": "755d5a50-1f66-42f6-ab94-b448f93da2ea",
   "metadata": {},
   "source": [
    "Now that the data is formatted into windows for the LSTM, I will create batches of data to provide to the model during training. The LSTM layer will maintain its cell and hidden states as it takes in multiple windows, resetting them after each new batch. This has led me to the decision to create batches based on individual strategies, allowing the model to learn how to predict a single strategy more effectively without carrying over any memory from one strategy to another."
   ]
  },
  {
   "cell_type": "code",
   "execution_count": 269,
   "id": "1b6ebfa5-127e-44ab-ae98-0926182becf9",
   "metadata": {},
   "outputs": [],
   "source": [
    "# Custom batches based on complete strategies\n",
    "def LSTM_data_batches(X, y):\n",
    "    X_batches = []\n",
    "    y_batches = []\n",
    "\n",
    "    j = 0\n",
    "    for i in range(len(X)):\n",
    "\n",
    "        if X[i][2][4] > 0.999: # Race progress == 1 (end of race)\n",
    "            X_batches.append(X[j:i+1])\n",
    "            y_batches.append(y[j:i+1])\n",
    "            j = i + 1\n",
    "\n",
    "    return X_batches, y_batches\n",
    "    \n",
    "X_test_batches, y_test_batches = LSTM_data_batches(X_test, y_test)\n",
    "X_train_batches, y_train_batches = LSTM_data_batches(X_train, y_train)"
   ]
  },
  {
   "cell_type": "markdown",
   "id": "7369a418-2636-4e14-96b2-15a28f385263",
   "metadata": {},
   "source": [
    "### Defining the Neural Network\n",
    "For the network, I chose to use a single LSTM layer followed by two fully connected layers, creating a hybrid between a recurrent neural network and a feed-forward neural network. This architecture is well-suited for the task because it combines the memory retention of an LSTM with the simplicity of an FFNN. I opted for only three layers in total to reduce the risk of overfitting the model."
   ]
  },
  {
   "cell_type": "code",
   "execution_count": 272,
   "id": "320bc998-1513-4a5b-9b12-dc6a087517ca",
   "metadata": {},
   "outputs": [],
   "source": [
    "class LSTMHybrid(nn.Module):\n",
    "    def __init__(self, input_size=11, hidden_size=128, num_layers=1, output_size=1):\n",
    "        super().__init__()\n",
    "        self.hidden_size = hidden_size\n",
    "        self.num_layers = num_layers    \n",
    "\n",
    "        #LSTM layer\n",
    "        self.lstm = nn.LSTM(input_size, hidden_size, num_layers, batch_first=True)\n",
    "\n",
    "        # Fully connected layers\n",
    "        self.fc_layers = nn.Sequential(\n",
    "            nn.Linear(hidden_size, hidden_size), # Layer 1\n",
    "            nn.ReLU(),\n",
    "            nn.Linear(hidden_size, hidden_size), # Layer 2\n",
    "            nn.ReLU(),\n",
    "            nn.Linear(hidden_size, output_size)  # Final output layer\n",
    "        )\n",
    "\n",
    "    def forward(self, x):\n",
    "        # Create zeroed hidden and cell states\n",
    "        hidden_states = torch.zeros(self.num_layers, x.size(0), self.hidden_size)\n",
    "        cell_states = torch.zeros(self.num_layers, x.size(0), self.hidden_size)\n",
    "\n",
    "        # Pass the input as well as the zero hidden and cell states through the LSTM\n",
    "        out, _ = self.lstm(x, (hidden_states, cell_states))\n",
    "        out = out[:, -1, :]  # Get the output of the last time step\n",
    "        \n",
    "        # Pass the last time stop through fully connected layers\n",
    "        out = self.fc_layers(out)\n",
    "        \n",
    "        return out"
   ]
  },
  {
   "cell_type": "markdown",
   "id": "a76a8f6e-3e0d-4085-8c15-635c03f178c7",
   "metadata": {},
   "source": [
    "This is a binary classification problem (predicting whether to make a pit stop or not), which calls for a binary loss function during training. It's crucial to apply a weight to the positive case (making a pit stop) because pit stops account for only about 3% of all laps. Without this weighting, the model might always predict \"no pit stop,\" achieving 97% accuracy but ultimately being useless for making accurate pit stop predictions."
   ]
  },
  {
   "cell_type": "code",
   "execution_count": 275,
   "id": "bbc448be-3f52-4fa9-ac71-260aa1f9bd27",
   "metadata": {},
   "outputs": [
    {
     "name": "stdout",
     "output_type": "stream",
     "text": [
      "tensor(36.7182)\n"
     ]
    }
   ],
   "source": [
    "model = LSTMHybrid(11, 128, 1, 1)\n",
    "\n",
    "pit_weight = ((len(y_train) - y_train.sum()) / y_train.sum()) # Calculated weight\n",
    "print(pit_weight)\n",
    "\n",
    "criterion = nn.BCEWithLogitsLoss(pos_weight = pit_weight) # Binary cross entropy loss function\n",
    "optimizer = optim.Adam(model.parameters(), lr=0.0003)"
   ]
  },
  {
   "cell_type": "markdown",
   "id": "441cbd23-f66e-4128-9c5a-157966cf6ef0",
   "metadata": {},
   "source": [
    "### Training the Network\n",
    "The loss vs. epoch graph suggests that the model could benefit from further training to reduce the loss on the training data. However, I found that extending the training leads to overfitting, resulting in worse performance on the test data. As a result, I opted for early stopping after only a small number of epochs.\n",
    "\n",
    "I also tested shuffling the batches for every epoch of training, but this surprisingly resulted in worse performance on the test data. I hypothesize that this is due to the nature of my training data, which dates back to 2014. By training the batches in chronological order—from oldest to newest—each epoch allows the more recent data to have a greater influence on the final result. This seems to be a desirable outcome, as more recent strategies are likely to be more relevant in today’s Formula 1 racing."
   ]
  },
  {
   "cell_type": "code",
   "execution_count": 278,
   "id": "95d0c4e6-fef7-4e8c-9723-28ff80bab13e",
   "metadata": {},
   "outputs": [
    {
     "name": "stdout",
     "output_type": "stream",
     "text": [
      "Epoch [3], Loss: 1.0489605658261452\n",
      "Epoch [6], Loss: 0.951417767458548\n",
      "Epoch [9], Loss: 0.912177647542903\n",
      "Epoch [12], Loss: 0.8841778536848093\n",
      "Epoch [15], Loss: 0.8615805332122718\n",
      "Epoch [18], Loss: 0.8433112587969182\n",
      "Epoch [21], Loss: 0.8278606146321459\n",
      "Epoch [24], Loss: 0.8157201842168125\n"
     ]
    }
   ],
   "source": [
    "num_epochs = 25\n",
    "losses = []\n",
    "\n",
    "for epoch in range(num_epochs):\n",
    "    epoch_loss = 0\n",
    "\n",
    "    for X_batch, y_batch in zip(X_train_batches, y_train_batches):\n",
    "        # Forward pass\n",
    "        y_pred = model(X_batch)\n",
    "        loss = criterion(y_pred, y_batch)\n",
    "\n",
    "        # Backward pass\n",
    "        optimizer.zero_grad()\n",
    "        loss.backward()\n",
    "        optimizer.step()\n",
    "\n",
    "        epoch_loss += loss.item()\n",
    "    \n",
    "    epoch_loss /= len(X_train_batches)\n",
    "    losses.append(epoch_loss)\n",
    "    if (epoch + 1) % 3 == 0:\n",
    "        print(f'Epoch [{epoch + 1}], Loss: {epoch_loss}')"
   ]
  },
  {
   "cell_type": "code",
   "execution_count": 279,
   "id": "edd99ee4-c754-4a5f-b0c6-e2bf619e208e",
   "metadata": {
    "jupyter": {
     "source_hidden": true
    }
   },
   "outputs": [
    {
     "data": {
      "image/png": "[encoded data removed]",
      "text/plain": [
       "<Figure size 1000x500 with 1 Axes>"
      ]
     },
     "metadata": {},
     "output_type": "display_data"
    }
   ],
   "source": [
    "plt.figure(figsize=(10,5))\n",
    "plt.plot(range(len(losses)), losses)\n",
    "plt.xlabel('Epoch')\n",
    "plt.ylabel('Loss')\n",
    "plt.title('Loss vs Epochs')\n",
    "plt.savefig('Loss vs Epochs.png') \n",
    "plt.show()"
   ]
  },
  {
   "cell_type": "markdown",
   "id": "2187f87a-093c-4832-9848-5aac64a1ab8d",
   "metadata": {},
   "source": [
    "### Evaluating the Model\n",
    "At this stage, I will pass the testing set through the model and evaluate the loss function to assess how well the model fits data it has not been trained on."
   ]
  },
  {
   "cell_type": "code",
   "execution_count": 350,
   "id": "d9e96286-8468-440b-a9dc-bf20a239f80d",
   "metadata": {},
   "outputs": [
    {
     "name": "stdout",
     "output_type": "stream",
     "text": [
      "Average Loss on Test Set: 1.1327799022197724\n"
     ]
    }
   ],
   "source": [
    "model.eval()\n",
    "total_loss = 0.0\n",
    "predictions = []\n",
    "true_labels = []\n",
    "\n",
    "with torch.no_grad():  # Disable gradient computation. It is only needed for training\n",
    "    \n",
    "    for X_batch, y_batch in zip(X_test_batches, y_test_batches):\n",
    "        # Forward pass\n",
    "        y_pred = model(X_batch)\n",
    "        # Calculate loss\n",
    "        loss = criterion(y_pred, y_batch)\n",
    "        total_loss += loss.item()  # Accumulate total loss\n",
    "\n",
    "        predictions.append(y_pred)\n",
    "        true_labels.append(y_batch)\n",
    "\n",
    "average_loss = total_loss / len(X_test_batches)\n",
    "\n",
    "predictions = torch.cat(predictions)  # Combine all predictions into a single tensor\n",
    "true_labels = torch.cat(true_labels)  # Combine all true labels into a single tensor\n",
    "\n",
    "# Print average loss\n",
    "print(f'Average Loss on Test Set: {average_loss}')"
   ]
  },
  {
   "cell_type": "markdown",
   "id": "b3960426-4a56-41e8-ae40-b1fc6ada077c",
   "metadata": {},
   "source": [
    "To evaluate and visualize the model's performance on the test data, I need to reconstruct the strategies by reinserting all laps 1 and 2 into the results. These laps will be set to 0 (no pit stop) and then appended to the original test dataframe."
   ]
  },
  {
   "cell_type": "code",
   "execution_count": 353,
   "id": "40cb2cf6-528e-4398-82d8-8966b241c6fa",
   "metadata": {},
   "outputs": [
    {
     "name": "stdout",
     "output_type": "stream",
     "text": [
      "1623 1623\n"
     ]
    }
   ],
   "source": [
    "# Reasemble the predictions from the segments (insert the missing lap 1s and 2s as \"no pit stop\")\n",
    "result = []\n",
    "j = 0\n",
    "for i in range(len(X_test_original)):\n",
    "    if X_test_original[i][0] >= WS:\n",
    "        result.append(torch.sigmoid(predictions[j]))\n",
    "        j += 1\n",
    "    else:\n",
    "        result.append(0)\n",
    "\n",
    "print(len(X_test_original), len(result)) # Verify no missing data"
   ]
  },
  {
   "cell_type": "code",
   "execution_count": 355,
   "id": "25f87cac-92b0-46cb-8f14-b67069750c72",
   "metadata": {},
   "outputs": [],
   "source": [
    "test = df_test.copy()\n",
    "test['predictedNext'] = result"
   ]
  },
  {
   "cell_type": "markdown",
   "id": "d8350e44-c297-470a-9313-fd61a99ed8d7",
   "metadata": {},
   "source": [
    "To objectively evaluate the model's performance, I will calculate the precision, recall, and F1 scores (not to be confused with Formula 1) for the predicted data. Any model output greater than 0.5 will be considered a true, while anything below 0.5 will be treated as a false.\n",
    "\n",
    "Among these metrics, the recall score will be the most important because I want to prioritize the model's ability to catch every potential pit stop. It's acceptable if the model predicts pit stops slightly early, as this still signals to race engineers that the pit stop window is approaching."
   ]
  },
  {
   "cell_type": "code",
   "execution_count": 358,
   "id": "67cb5715-dcda-45ee-a0dd-b55dd4714540",
   "metadata": {},
   "outputs": [
    {
     "name": "stdout",
     "output_type": "stream",
     "text": [
      "F1 Score: 0.290\n",
      "Recall Score: 0.706\n",
      "Precision Score: 0.183\n"
     ]
    }
   ],
   "source": [
    "f1 = f1_score((test['pitNext'] > 0), (test['predictedNext'] >= 0.5))\n",
    "recall = recall_score((test['pitNext'] > 0), (test['predictedNext'] >= 0.5))\n",
    "precision = precision_score((test['pitNext'] > 0), (test['predictedNext'] >= 0.5))\n",
    "\n",
    "print(f'F1 Score: {f1:.3f}',)\n",
    "print(f'Recall Score: {recall:.3f}',)\n",
    "print(f'Precision Score: {precision:.3f}',)"
   ]
  },
  {
   "cell_type": "markdown",
   "id": "25f5969a-ce40-4805-b475-580d304bb6c4",
   "metadata": {},
   "source": [
    "### Visualizing the Results\n",
    "While the metrics provide an important measure of performance, it's crucial to visualize the model’s output to ensure it is behaving as intended and delivering useful predictions. I will plot two races and observe how the model predicts pit stops for two drivers, each employing different strategies."
   ]
  },
  {
   "cell_type": "code",
   "execution_count": 361,
   "id": "59a1acd0-e695-4ac7-8ce3-cb6d407e84c0",
   "metadata": {},
   "outputs": [
    {
     "name": "stdout",
     "output_type": "stream",
     "text": [
      "[  1 815 830 832 844 847 857]\n"
     ]
    }
   ],
   "source": [
    "race1 = test[test['raceId'] == 1130]\n",
    "print(race1['driverId'].unique())\n",
    "driver1_1 = race1[race1['driverId'] == 1] # Hamilton\n",
    "driver2_1 = race1[race1['driverId'] == 815] # Perez"
   ]
  },
  {
   "cell_type": "code",
   "execution_count": 363,
   "id": "565da9ca-6875-4bf0-97a4-d9358a342c49",
   "metadata": {},
   "outputs": [
    {
     "name": "stdout",
     "output_type": "stream",
     "text": [
      "[  1 807 815 817 825 832 842 847 857]\n"
     ]
    }
   ],
   "source": [
    "race2 = test[test['raceId'] == 1131]\n",
    "print(race2['driverId'].unique())\n",
    "driver1_2 = race2[race2['driverId'] == 832] # Sainz\n",
    "driver2_2 = race2[race2['driverId'] == 817] # Ricciardo"
   ]
  },
  {
   "cell_type": "markdown",
   "id": "fabe57e8-df79-4b10-aa66-6f5aae86e0a5",
   "metadata": {},
   "source": [
    "The plots will display the model's output for each lap of the race, visualized by the height of a diamond on the y-axis. A vertical line will mark each lap where the drivers actually decided to pit on the following lap. Additionally, a horizontal dotted line at y = 0.5 will indicate the threshold, where values above suggest favoring a pit stop and values below favor staying out on the track. I will also plot the driver positions on a separate graph to provide insight into the model's predictions and to analyze how effective each strategy was for the drivers."
   ]
  },
  {
   "cell_type": "code",
   "execution_count": 291,
   "id": "e98c49b8-9947-4e2e-a974-8dc061c45de3",
   "metadata": {
    "jupyter": {
     "source_hidden": true
    }
   },
   "outputs": [
    {
     "data": {
      "image/png": "[encoded data removed]",
      "text/plain": [
       "<Figure size 1200x700 with 2 Axes>"
      ]
     },
     "metadata": {},
     "output_type": "display_data"
    }
   ],
   "source": [
    "fig, (ax1, ax2) = plt.subplots(2, figsize=(12, 7))\n",
    "fig.suptitle('2024 Spanish Grand Prix Pit Stop Analysis')\n",
    "\n",
    "ax1.axhline(y=0.5, color='black', linestyle=':', linewidth=0.75)\n",
    "ax1.scatter(driver1_1['lap'], driver1_1['predictedNext'], marker='d', label='Hamilton')\n",
    "ax1.stem(driver1_1['lap'], driver1_1['pitNext'], markerfmt='none')\n",
    "ax1.scatter(driver2_1['lap'], driver2_1['predictedNext'], marker='d', label='Perez')\n",
    "ax1.stem(driver2_1['lap'], driver2_1['pitNext'], markerfmt='none', linefmt='orange')\n",
    "ax1.set_ylabel('Model Prediction')\n",
    "\n",
    "ax2.plot(driver1_1['lap'], driver1_1['position'])\n",
    "ax2.plot(driver2_1['lap'], driver2_1['position'])\n",
    "ax2.set_ylim(1, 20)\n",
    "ax2.set_ylabel('Driver Position') \n",
    "ax2.set_xlabel('Lap Number')\n",
    "ax2.invert_yaxis()\n",
    "ax2.yaxis.set_major_locator(MaxNLocator(integer=True))\n",
    "\n",
    "ax1.legend()\n",
    "\n",
    "plt.savefig('2024 Spanish Grand Prix Pit Stop Analysis.png') "
   ]
  },
  {
   "cell_type": "markdown",
   "id": "2e654fb7-48aa-4ad3-82f2-555626e95ec4",
   "metadata": {},
   "source": [
    "In the plot above, we can see how the model responds to both a two-stop and a three-stop strategy during the same race. The model successfully adjusts to each strategy, accurately predicting 4 out of 5 stops. It only misses Perez's third pit stop, but it correctly trends upward around the time of the stop, indicating that the model was close to making the correct prediction or that Perez could have stayed out on track for longer."
   ]
  },
  {
   "cell_type": "code",
   "execution_count": 293,
   "id": "5fefe30d-9378-47f6-bae0-51844c9467f8",
   "metadata": {
    "jupyter": {
     "source_hidden": true
    }
   },
   "outputs": [
    {
     "data": {
      "image/png": "[encoded data removed]",
      "text/plain": [
       "<Figure size 1200x700 with 2 Axes>"
      ]
     },
     "metadata": {},
     "output_type": "display_data"
    }
   ],
   "source": [
    "fig, (ax1, ax2) = plt.subplots(2, figsize=(12, 7))\n",
    "fig.suptitle('2024 Austrian Grand Prix Pit Stop Analysis')\n",
    "\n",
    "ax1.axhline(y=0.5, color='black', linestyle=':', linewidth=0.75)\n",
    "ax1.scatter(driver1_2['lap'], driver1_2['predictedNext'], marker='d', label='Sainz')\n",
    "ax1.stem(driver1_2['lap'], driver1_2['pitNext'], markerfmt='none')\n",
    "ax1.scatter(driver2_2['lap'], driver2_2['predictedNext'], marker='d', label='Ricciardo')\n",
    "ax1.stem(driver2_2['lap'], driver2_2['pitNext'], markerfmt='none', linefmt='orange')\n",
    "ax1.set_ylabel('Model Prediction')\n",
    "\n",
    "ax2.plot(driver1_2['lap'], driver1_2['position'])\n",
    "ax2.plot(driver2_2['lap'], driver2_2['position'])\n",
    "ax2.set_ylim(1, 20)\n",
    "ax2.set_ylabel('Driver Position') \n",
    "ax2.set_xlabel('Lap Number')\n",
    "ax2.invert_yaxis()\n",
    "ax2.yaxis.set_major_locator(MaxNLocator(integer=True))\n",
    "\n",
    "ax1.legend()\n",
    "\n",
    "plt.savefig('2024 Austrian Grand Prix Pit Stop Analysis.png') "
   ]
  },
  {
   "cell_type": "markdown",
   "id": "e24fc4f9-fd51-4c6c-835a-e310f308598b",
   "metadata": {},
   "source": [
    "In this plot, we again observe how the model responds to two different strategies. It accurately predicts 3 out of the 4 stops, only missing Ricciardo’s first stop, which occurred unusually early in the race as part of an alternate strategy by his team. However, the model adjusts to this strategy and correctly predicts his final stop."
   ]
  },
  {
   "cell_type": "markdown",
   "id": "3ae0bf72-34e4-47cd-bf69-ed0dec1241f4",
   "metadata": {},
   "source": [
    "### Saving the model\n",
    "The model is performing well, so I will save its state for future use."
   ]
  },
  {
   "cell_type": "code",
   "execution_count": 315,
   "id": "23818370-3eaa-4656-91bd-216999a9472c",
   "metadata": {},
   "outputs": [],
   "source": [
    "perform_save = False # Manually change to True to save the current state of the model\n",
    "\n",
    "if perform_save:\n",
    "    save_state = {\n",
    "        'model':model.state_dict(), \n",
    "        'optimizer':optimizer.state_dict(), \n",
    "        'min_val': min_val, # Used for min max on input data\n",
    "        'max_val': max_val\n",
    "        }\n",
    "    torch.save(save_state, 'LSTM_hybrid_trained_V3.pth')"
   ]
  },
  {
   "cell_type": "markdown",
   "id": "c8a971bb-767d-41d6-99e6-b7d15d2d7e0b",
   "metadata": {},
   "source": [
    "## User Interface\n",
    "This section will enable you to input data lap by lap and observe the model's output for any given data."
   ]
  },
  {
   "cell_type": "code",
   "execution_count": 317,
   "id": "cb336334-46b6-4a2c-b454-82eaa6462072",
   "metadata": {},
   "outputs": [
    {
     "data": {
      "text/plain": [
       "LSTMHybrid(\n",
       "  (lstm): LSTM(11, 128, batch_first=True)\n",
       "  (fc_layers): Sequential(\n",
       "    (0): Linear(in_features=128, out_features=128, bias=True)\n",
       "    (1): ReLU()\n",
       "    (2): Linear(in_features=128, out_features=128, bias=True)\n",
       "    (3): ReLU()\n",
       "    (4): Linear(in_features=128, out_features=1, bias=True)\n",
       "  )\n",
       ")"
      ]
     },
     "execution_count": 317,
     "metadata": {},
     "output_type": "execute_result"
    }
   ],
   "source": [
    "import torch\n",
    "import ipywidgets as widgets\n",
    "from IPython.display import display\n",
    "from lstmhybrid import LSTMHybrid\n",
    "\n",
    "state = torch.load('LSTM_hybrid_trained_V3.pth')\n",
    "\n",
    "model = LSTMHybrid()\n",
    "model.load_state_dict(state['model'])\n",
    "min_val = state['min_val'] # Used for min max on input data\n",
    "max_val = state['max_val']\n",
    "\n",
    "model.eval()"
   ]
  },
  {
   "cell_type": "code",
   "execution_count": 373,
   "id": "e708812f-62e9-4875-a616-0802c751e1f3",
   "metadata": {
    "jupyter": {
     "source_hidden": true
    }
   },
   "outputs": [
    {
     "data": {
      "application/vnd.jupyter.widget-view+json": {
       "model_id": "8ddd440e1f504e0484eb1755b3c1ddc4",
       "version_major": 2,
       "version_minor": 0
      },
      "text/plain": [
       "IntText(value=0, description='Race Length:')"
      ]
     },
     "metadata": {},
     "output_type": "display_data"
    },
    {
     "data": {
      "application/vnd.jupyter.widget-view+json": {
       "model_id": "800eac01a15640a1b433f1b201f96a28",
       "version_major": 2,
       "version_minor": 0
      },
      "text/plain": [
       "IntText(value=0, description='Lap:')"
      ]
     },
     "metadata": {},
     "output_type": "display_data"
    },
    {
     "data": {
      "application/vnd.jupyter.widget-view+json": {
       "model_id": "c1ec404bf1ab45299f21bd3ce3597358",
       "version_major": 2,
       "version_minor": 0
      },
      "text/plain": [
       "IntText(value=0, description='Lap Last Pit:')"
      ]
     },
     "metadata": {},
     "output_type": "display_data"
    },
    {
     "data": {
      "application/vnd.jupyter.widget-view+json": {
       "model_id": "b6e149e60bdb43d98cf81092aa90f34f",
       "version_major": 2,
       "version_minor": 0
      },
      "text/plain": [
       "IntText(value=0, description='Position:')"
      ]
     },
     "metadata": {},
     "output_type": "display_data"
    },
    {
     "data": {
      "application/vnd.jupyter.widget-view+json": {
       "model_id": "3fd762d61a1e42248ed12acfe472ae52",
       "version_major": 2,
       "version_minor": 0
      },
      "text/plain": [
       "IntText(value=0, description='Laptime (ms):')"
      ]
     },
     "metadata": {},
     "output_type": "display_data"
    },
    {
     "data": {
      "application/vnd.jupyter.widget-view+json": {
       "model_id": "eda24206d7804e99a9a86958722e7f8c",
       "version_major": 2,
       "version_minor": 0
      },
      "text/plain": [
       "IntText(value=0, description='Gap Ahead:')"
      ]
     },
     "metadata": {},
     "output_type": "display_data"
    },
    {
     "data": {
      "application/vnd.jupyter.widget-view+json": {
       "model_id": "a087fce6a4cb4d87992fbb163faa28d8",
       "version_major": 2,
       "version_minor": 0
      },
      "text/plain": [
       "IntText(value=0, description='Gap Behind:')"
      ]
     },
     "metadata": {},
     "output_type": "display_data"
    },
    {
     "data": {
      "application/vnd.jupyter.widget-view+json": {
       "model_id": "3ee2ff5f941f43aa81b1adc9ee7ea243",
       "version_major": 2,
       "version_minor": 0
      },
      "text/plain": [
       "Checkbox(value=False, description='Car Ahead Pit')"
      ]
     },
     "metadata": {},
     "output_type": "display_data"
    },
    {
     "data": {
      "application/vnd.jupyter.widget-view+json": {
       "model_id": "fc15ab39ffa14d64aae489ede3c12773",
       "version_major": 2,
       "version_minor": 0
      },
      "text/plain": [
       "Checkbox(value=False, description='Car Behind Pit')"
      ]
     },
     "metadata": {},
     "output_type": "display_data"
    },
    {
     "data": {
      "application/vnd.jupyter.widget-view+json": {
       "model_id": "532d8a013f9c4845bb668004508a22eb",
       "version_major": 2,
       "version_minor": 0
      },
      "text/plain": [
       "HBox(children=(Button(description='Input Lap', style=ButtonStyle()), Button(description='Reset Data', style=Bu…"
      ]
     },
     "metadata": {},
     "output_type": "display_data"
    },
    {
     "data": {
      "application/vnd.jupyter.widget-view+json": {
       "model_id": "e7541b0c29864ce28ea080559cfde2b9",
       "version_major": 2,
       "version_minor": 0
      },
      "text/plain": [
       "Output(layout=Layout(border_bottom='1px solid black', border_left='1px solid black', border_right='1px solid b…"
      ]
     },
     "metadata": {},
     "output_type": "display_data"
    }
   ],
   "source": [
    "# create input fields\n",
    "race_length = widgets.IntText(description='Race Length:')\n",
    "lap = widgets.IntText(description='Lap:')\n",
    "last_pit = widgets.IntText(description='Lap Last Pit:')\n",
    "position = widgets.IntText(description='Position:')\n",
    "laptime = widgets.IntText(description='Laptime (ms):')\n",
    "gap_ahead = widgets.IntText(description='Gap Ahead:')\n",
    "pit_ahead = widgets.Checkbox(value=False, description='Car Ahead Pit')\n",
    "gap_behind = widgets.IntText(description='Gap Behind:')\n",
    "pit_behind = widgets.Checkbox(value=False, description='Car Behind Pit')\n",
    "\n",
    "submit_button = widgets.Button(description='Input Lap')\n",
    "reset_button = widgets.Button(description='Reset Data')\n",
    "hbox = widgets.HBox([submit_button, reset_button])\n",
    "\n",
    "output = widgets.Output(layout={'border': '1px solid black', 'padding': '10px', 'width': '400px', 'height': '40px'})\n",
    "\n",
    "# Variables for the function\n",
    "last_lap = 0\n",
    "window = torch.zeros(1, 3, 11)\n",
    "batch = []\n",
    "count = 0\n",
    "\n",
    "# Define a function to handle the button click\n",
    "def on_submit(b):\n",
    "    with output:\n",
    "        output.clear_output()\n",
    "        global last_lap, count, window, batch\n",
    "\n",
    "        # Input validation \n",
    "        if race_length.value <= 0:\n",
    "            print('Error: Race Length must be greater than 0')\n",
    "            return\n",
    "        if lap.value <= 0 or lap.value > race_length.value:\n",
    "            print('Error: Lap must be greater than 0 and less than or equal to Race Length')\n",
    "            return\n",
    "        if laptime.value <= 0:\n",
    "            print('Error: Laptime must be greater than 0')\n",
    "            return\n",
    "        if gap_ahead.value < 0 or gap_behind.value < 0:\n",
    "            print('Error: Gap Ahead and Gap Behind must be non-negative')\n",
    "            return\n",
    "        if last_pit.value < 0 or last_pit.value > lap.value:\n",
    "            print('Error: Lap Last Pit must be non-negative and less than or equal the current Lap')\n",
    "            return\n",
    "        \n",
    "        # create tensor from input\n",
    "        lap_data = torch.tensor([\n",
    "            lap.value,\n",
    "            position.value,\n",
    "            laptime.value, # milliseconds\n",
    "            (lap.value - last_pit.value), # lapsSincePit\n",
    "            (lap.value / race_length.value), # raceProgress\n",
    "            (0 if last_lap == 0 else (laptime.value - last_lap)), #split\n",
    "            gap_ahead.value,\n",
    "            (1 if gap_ahead.value < 1000 else 0), # DRS\n",
    "            gap_behind.value,\n",
    "            (1 if pit_ahead.value else 0),\n",
    "            (1 if pit_behind.value else 0)\n",
    "        ])\n",
    "        \n",
    "        last_lap = laptime.value # used to calculate splits automatically\n",
    "        \n",
    "        # Minmax data\n",
    "        lap_data = (lap_data - min_val) / (max_val - min_val) \n",
    "        \n",
    "        # Insert data to tensor\n",
    "        window[0][0] = window[0][1]\n",
    "        window[0][1] = window[0][2]\n",
    "        window[0][2] = lap_data\n",
    "\n",
    "        # evaluate with model and display\n",
    "        count += 1        \n",
    "        pit_pred = 0\n",
    "        if count >= 3:\n",
    "            batch.append(window)\n",
    "            batch_tensor = torch.cat(batch, dim=0)\n",
    "            pit_pred = torch.sigmoid(model(batch_tensor))\n",
    "            print(f'Make a pit stop on lap {lap.value+1} confidence: {(pit_pred[-1].item() * 100):.1f}%')\n",
    "        else:\n",
    "            print('Input ', (3 - count), ' more laps for evaluation')\n",
    "        \n",
    "        lap.value += 1\n",
    "        laptime.value = 0\n",
    "        gap_ahead.value = 0\n",
    "        pit_ahead.value = False\n",
    "        gap_behind.value = 0\n",
    "        pit_behind.value = False\n",
    "\n",
    "def on_reset(b):\n",
    "    with output:\n",
    "        output.clear_output()\n",
    "        global last_lap, count, window, batch\n",
    "\n",
    "        last_lap = 0\n",
    "        window = torch.zeros(1, 3, 11)\n",
    "        count = 0\n",
    "        batch = []\n",
    "        race_length.value = 0\n",
    "        lap.value = 0\n",
    "        last_pit.value = 0\n",
    "        position.value = 0\n",
    "        laptime.value = 0\n",
    "        gap_ahead.value = 0\n",
    "        pit_ahead.value = False\n",
    "        gap_behind.value = 0\n",
    "        pit_behind.value = False\n",
    "        print('Input data has been reset')\n",
    "\n",
    "# Link the button click event to the function\n",
    "submit_button.on_click(on_submit)\n",
    "reset_button.on_click(on_reset)\n",
    "\n",
    "# Display the form\n",
    "display(race_length, lap, last_pit, position, laptime, gap_ahead, \n",
    "        gap_behind, pit_ahead, pit_behind, hbox, output)"
   ]
  },
  {
   "cell_type": "markdown",
   "id": "1cdd83c9-bbae-4d94-a790-84c62b195363",
   "metadata": {},
   "source": [
    "The input fields above allow you to directly use the model. It will automatically increment laps as you enter them and reset fields that require new input for each lap. After entering 3 laps of data, the model will begin to display its output, indicating how confident it is that your car should make a pit stop on the next lap.\n",
    "\n",
    "You can use the following sample data to see how it works: **Set Race Length = 71**, Lap **Last Pit = 22**, and **Position = 4**, then start entering data beginning from Lap 41. Observe the model's outputs and try to decide when to make a pit stop based on the predictions. Once you've chosen a lap to pit, update **Lap Last Pit** to that lap and enter one more lap of data to see how the model adapts to your decision.\n",
    "\n",
    "| Lap | Laptime | Gap Ahead | Gap Behind | Car Ahead Pit | Car Behind Pit |\n",
    "|-----|---------|-----------|------------|---------------|----------------|\n",
    "|  41 |   70729 |      3953 |       3059 |             0 |              0 |\n",
    "|  42 |   70906 |      4062 |       3099 |             0 |              0 |\n",
    "|  43 |   70813 |      4091 |       3088 |             0 |              0 |\n",
    "|  44 |   71214 |      3920 |       3205 |             0 |              0 |\n",
    "|  45 |   71081 |      3599 |       3001 |             0 |              0 |\n",
    "|  46 |   71088 |     16147 |       1000 |             0 |              1 |\n",
    "|  47 |   74811 |       182 |      12333 |             0 |              0 |\n",
    "|  48 |   86343 |      4846 |       2724 |             0 |              0 |\n",
    "|  49 |   69555 |      5113 |       4879 |             0 |              0 |\n",
    "|  50 |   69357 |      5128 |       6976 |             0 |              0 |\n",
    "|  51 |   69412 |      4781 |      13827 |             0 |              1 |\n",
    "|  52 |   70099 |      4999 |       6066 |             0 |              0 |"
   ]
  },
  {
   "cell_type": "markdown",
   "id": "b17f5f56-cd75-4605-820c-ca01ca328e0c",
   "metadata": {},
   "source": [
    "<details> \n",
    "    <summary>Once you've tried the model with this data sample, click here to see the actual pit stop.</summary> \n",
    "    <p>This data comes from Carlos Sainz during the 2024 Austrian Grand Prix, as shown in the graphs from previous sections. He made his second pit stop on <b>lap 47</b>, where the model predicted with over 90% confidence that a pit stop was needed.</p> \n",
    "</details>"
   ]
  }
 ],
 "metadata": {
  "kernelspec": {
   "display_name": "Python 3 (ipykernel)",
   "language": "python",
   "name": "python3"
  },
  "language_info": {
   "codemirror_mode": {
    "name": "ipython",
    "version": 3
   },
   "file_extension": ".py",
   "mimetype": "text/x-python",
   "name": "python",
   "nbconvert_exporter": "python",
   "pygments_lexer": "ipython3",
   "version": "3.8.12"
  }
 },
 "nbformat": 4,
 "nbformat_minor": 5
}
